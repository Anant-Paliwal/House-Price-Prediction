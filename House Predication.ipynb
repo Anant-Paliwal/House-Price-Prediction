{
 "cells": [
  {
   "cell_type": "code",
   "execution_count": 1,
   "id": "4cab1646",
   "metadata": {},
   "outputs": [],
   "source": [
    "import pandas as pd\n",
    "import matplotlib.pyplot as plt\n",
    "import numpy as np\n",
    "import seaborn as sns"
   ]
  },
  {
   "cell_type": "code",
   "execution_count": 2,
   "id": "377449f0",
   "metadata": {},
   "outputs": [],
   "source": [
    "df = pd.read_excel('DS - Assignment Part 1 data set.xlsx')"
   ]
  },
  {
   "cell_type": "code",
   "execution_count": 3,
   "id": "67995618",
   "metadata": {},
   "outputs": [
    {
     "data": {
      "text/html": [
       "<div>\n",
       "<style scoped>\n",
       "    .dataframe tbody tr th:only-of-type {\n",
       "        vertical-align: middle;\n",
       "    }\n",
       "\n",
       "    .dataframe tbody tr th {\n",
       "        vertical-align: top;\n",
       "    }\n",
       "\n",
       "    .dataframe thead th {\n",
       "        text-align: right;\n",
       "    }\n",
       "</style>\n",
       "<table border=\"1\" class=\"dataframe\">\n",
       "  <thead>\n",
       "    <tr style=\"text-align: right;\">\n",
       "      <th></th>\n",
       "      <th>Transaction date</th>\n",
       "      <th>House Age</th>\n",
       "      <th>Distance from nearest Metro station (km)</th>\n",
       "      <th>Number of convenience stores</th>\n",
       "      <th>latitude</th>\n",
       "      <th>longitude</th>\n",
       "      <th>Number of bedrooms</th>\n",
       "      <th>House size (sqft)</th>\n",
       "      <th>House price of unit area</th>\n",
       "    </tr>\n",
       "  </thead>\n",
       "  <tbody>\n",
       "    <tr>\n",
       "      <th>0</th>\n",
       "      <td>2012.916667</td>\n",
       "      <td>32.0</td>\n",
       "      <td>84.87882</td>\n",
       "      <td>10</td>\n",
       "      <td>24.98298</td>\n",
       "      <td>121.54024</td>\n",
       "      <td>1</td>\n",
       "      <td>575</td>\n",
       "      <td>37.9</td>\n",
       "    </tr>\n",
       "    <tr>\n",
       "      <th>1</th>\n",
       "      <td>2012.916667</td>\n",
       "      <td>19.5</td>\n",
       "      <td>306.59470</td>\n",
       "      <td>9</td>\n",
       "      <td>24.98034</td>\n",
       "      <td>121.53951</td>\n",
       "      <td>2</td>\n",
       "      <td>1240</td>\n",
       "      <td>42.2</td>\n",
       "    </tr>\n",
       "    <tr>\n",
       "      <th>2</th>\n",
       "      <td>2013.583333</td>\n",
       "      <td>13.3</td>\n",
       "      <td>561.98450</td>\n",
       "      <td>5</td>\n",
       "      <td>24.98746</td>\n",
       "      <td>121.54391</td>\n",
       "      <td>3</td>\n",
       "      <td>1060</td>\n",
       "      <td>47.3</td>\n",
       "    </tr>\n",
       "    <tr>\n",
       "      <th>3</th>\n",
       "      <td>2013.500000</td>\n",
       "      <td>13.3</td>\n",
       "      <td>561.98450</td>\n",
       "      <td>5</td>\n",
       "      <td>24.98746</td>\n",
       "      <td>121.54391</td>\n",
       "      <td>2</td>\n",
       "      <td>875</td>\n",
       "      <td>54.8</td>\n",
       "    </tr>\n",
       "    <tr>\n",
       "      <th>4</th>\n",
       "      <td>2012.833333</td>\n",
       "      <td>5.0</td>\n",
       "      <td>390.56840</td>\n",
       "      <td>5</td>\n",
       "      <td>24.97937</td>\n",
       "      <td>121.54245</td>\n",
       "      <td>1</td>\n",
       "      <td>491</td>\n",
       "      <td>43.1</td>\n",
       "    </tr>\n",
       "  </tbody>\n",
       "</table>\n",
       "</div>"
      ],
      "text/plain": [
       "   Transaction date  House Age  Distance from nearest Metro station (km)  \\\n",
       "0       2012.916667       32.0                                  84.87882   \n",
       "1       2012.916667       19.5                                 306.59470   \n",
       "2       2013.583333       13.3                                 561.98450   \n",
       "3       2013.500000       13.3                                 561.98450   \n",
       "4       2012.833333        5.0                                 390.56840   \n",
       "\n",
       "   Number of convenience stores  latitude  longitude  Number of bedrooms  \\\n",
       "0                            10  24.98298  121.54024                   1   \n",
       "1                             9  24.98034  121.53951                   2   \n",
       "2                             5  24.98746  121.54391                   3   \n",
       "3                             5  24.98746  121.54391                   2   \n",
       "4                             5  24.97937  121.54245                   1   \n",
       "\n",
       "   House size (sqft)  House price of unit area  \n",
       "0                575                      37.9  \n",
       "1               1240                      42.2  \n",
       "2               1060                      47.3  \n",
       "3                875                      54.8  \n",
       "4                491                      43.1  "
      ]
     },
     "execution_count": 3,
     "metadata": {},
     "output_type": "execute_result"
    }
   ],
   "source": [
    "df.head()"
   ]
  },
  {
   "cell_type": "code",
   "execution_count": 4,
   "id": "5fa9603c",
   "metadata": {},
   "outputs": [
    {
     "data": {
      "text/plain": [
       "Transaction date                            0\n",
       "House Age                                   0\n",
       "Distance from nearest Metro station (km)    0\n",
       "Number of convenience stores                0\n",
       "latitude                                    0\n",
       "longitude                                   0\n",
       "Number of bedrooms                          0\n",
       "House size (sqft)                           0\n",
       "House price of unit area                    0\n",
       "dtype: int64"
      ]
     },
     "execution_count": 4,
     "metadata": {},
     "output_type": "execute_result"
    }
   ],
   "source": [
    "df.isnull().sum()"
   ]
  },
  {
   "cell_type": "code",
   "execution_count": 5,
   "id": "b2653ba7",
   "metadata": {},
   "outputs": [
    {
     "data": {
      "text/html": [
       "<div>\n",
       "<style scoped>\n",
       "    .dataframe tbody tr th:only-of-type {\n",
       "        vertical-align: middle;\n",
       "    }\n",
       "\n",
       "    .dataframe tbody tr th {\n",
       "        vertical-align: top;\n",
       "    }\n",
       "\n",
       "    .dataframe thead th {\n",
       "        text-align: right;\n",
       "    }\n",
       "</style>\n",
       "<table border=\"1\" class=\"dataframe\">\n",
       "  <thead>\n",
       "    <tr style=\"text-align: right;\">\n",
       "      <th></th>\n",
       "      <th>Transaction date</th>\n",
       "      <th>House Age</th>\n",
       "      <th>Distance from nearest Metro station (km)</th>\n",
       "      <th>Number of convenience stores</th>\n",
       "      <th>latitude</th>\n",
       "      <th>longitude</th>\n",
       "      <th>Number of bedrooms</th>\n",
       "      <th>House size (sqft)</th>\n",
       "      <th>House price of unit area</th>\n",
       "    </tr>\n",
       "  </thead>\n",
       "  <tbody>\n",
       "    <tr>\n",
       "      <th>count</th>\n",
       "      <td>414.000000</td>\n",
       "      <td>414.000000</td>\n",
       "      <td>414.000000</td>\n",
       "      <td>414.000000</td>\n",
       "      <td>414.000000</td>\n",
       "      <td>414.000000</td>\n",
       "      <td>414.000000</td>\n",
       "      <td>414.000000</td>\n",
       "      <td>414.000000</td>\n",
       "    </tr>\n",
       "    <tr>\n",
       "      <th>mean</th>\n",
       "      <td>2013.148953</td>\n",
       "      <td>17.712560</td>\n",
       "      <td>1083.885689</td>\n",
       "      <td>4.094203</td>\n",
       "      <td>24.969030</td>\n",
       "      <td>121.533361</td>\n",
       "      <td>1.987923</td>\n",
       "      <td>931.475845</td>\n",
       "      <td>37.980193</td>\n",
       "    </tr>\n",
       "    <tr>\n",
       "      <th>std</th>\n",
       "      <td>0.281995</td>\n",
       "      <td>11.392485</td>\n",
       "      <td>1262.109595</td>\n",
       "      <td>2.945562</td>\n",
       "      <td>0.012410</td>\n",
       "      <td>0.015347</td>\n",
       "      <td>0.818875</td>\n",
       "      <td>348.910269</td>\n",
       "      <td>13.606488</td>\n",
       "    </tr>\n",
       "    <tr>\n",
       "      <th>min</th>\n",
       "      <td>2012.666667</td>\n",
       "      <td>0.000000</td>\n",
       "      <td>23.382840</td>\n",
       "      <td>0.000000</td>\n",
       "      <td>24.932070</td>\n",
       "      <td>121.473530</td>\n",
       "      <td>1.000000</td>\n",
       "      <td>402.000000</td>\n",
       "      <td>7.600000</td>\n",
       "    </tr>\n",
       "    <tr>\n",
       "      <th>25%</th>\n",
       "      <td>2012.916667</td>\n",
       "      <td>9.025000</td>\n",
       "      <td>289.324800</td>\n",
       "      <td>1.000000</td>\n",
       "      <td>24.963000</td>\n",
       "      <td>121.528085</td>\n",
       "      <td>1.000000</td>\n",
       "      <td>548.000000</td>\n",
       "      <td>27.700000</td>\n",
       "    </tr>\n",
       "    <tr>\n",
       "      <th>50%</th>\n",
       "      <td>2013.166667</td>\n",
       "      <td>16.100000</td>\n",
       "      <td>492.231300</td>\n",
       "      <td>4.000000</td>\n",
       "      <td>24.971100</td>\n",
       "      <td>121.538630</td>\n",
       "      <td>2.000000</td>\n",
       "      <td>975.000000</td>\n",
       "      <td>38.450000</td>\n",
       "    </tr>\n",
       "    <tr>\n",
       "      <th>75%</th>\n",
       "      <td>2013.416667</td>\n",
       "      <td>28.150000</td>\n",
       "      <td>1454.279000</td>\n",
       "      <td>6.000000</td>\n",
       "      <td>24.977455</td>\n",
       "      <td>121.543305</td>\n",
       "      <td>3.000000</td>\n",
       "      <td>1234.750000</td>\n",
       "      <td>46.600000</td>\n",
       "    </tr>\n",
       "    <tr>\n",
       "      <th>max</th>\n",
       "      <td>2013.583333</td>\n",
       "      <td>43.800000</td>\n",
       "      <td>6488.021000</td>\n",
       "      <td>10.000000</td>\n",
       "      <td>25.014590</td>\n",
       "      <td>121.566270</td>\n",
       "      <td>3.000000</td>\n",
       "      <td>1500.000000</td>\n",
       "      <td>117.500000</td>\n",
       "    </tr>\n",
       "  </tbody>\n",
       "</table>\n",
       "</div>"
      ],
      "text/plain": [
       "       Transaction date   House Age  Distance from nearest Metro station (km)  \\\n",
       "count        414.000000  414.000000                                414.000000   \n",
       "mean        2013.148953   17.712560                               1083.885689   \n",
       "std            0.281995   11.392485                               1262.109595   \n",
       "min         2012.666667    0.000000                                 23.382840   \n",
       "25%         2012.916667    9.025000                                289.324800   \n",
       "50%         2013.166667   16.100000                                492.231300   \n",
       "75%         2013.416667   28.150000                               1454.279000   \n",
       "max         2013.583333   43.800000                               6488.021000   \n",
       "\n",
       "       Number of convenience stores    latitude   longitude  \\\n",
       "count                    414.000000  414.000000  414.000000   \n",
       "mean                       4.094203   24.969030  121.533361   \n",
       "std                        2.945562    0.012410    0.015347   \n",
       "min                        0.000000   24.932070  121.473530   \n",
       "25%                        1.000000   24.963000  121.528085   \n",
       "50%                        4.000000   24.971100  121.538630   \n",
       "75%                        6.000000   24.977455  121.543305   \n",
       "max                       10.000000   25.014590  121.566270   \n",
       "\n",
       "       Number of bedrooms  House size (sqft)  House price of unit area  \n",
       "count          414.000000         414.000000                414.000000  \n",
       "mean             1.987923         931.475845                 37.980193  \n",
       "std              0.818875         348.910269                 13.606488  \n",
       "min              1.000000         402.000000                  7.600000  \n",
       "25%              1.000000         548.000000                 27.700000  \n",
       "50%              2.000000         975.000000                 38.450000  \n",
       "75%              3.000000        1234.750000                 46.600000  \n",
       "max              3.000000        1500.000000                117.500000  "
      ]
     },
     "execution_count": 5,
     "metadata": {},
     "output_type": "execute_result"
    }
   ],
   "source": [
    "df.describe()"
   ]
  },
  {
   "cell_type": "code",
   "execution_count": 6,
   "id": "09487e09",
   "metadata": {},
   "outputs": [],
   "source": [
    "x = df.iloc[:,0:-1]"
   ]
  },
  {
   "cell_type": "code",
   "execution_count": 7,
   "id": "115277d8",
   "metadata": {},
   "outputs": [
    {
     "data": {
      "text/html": [
       "<div>\n",
       "<style scoped>\n",
       "    .dataframe tbody tr th:only-of-type {\n",
       "        vertical-align: middle;\n",
       "    }\n",
       "\n",
       "    .dataframe tbody tr th {\n",
       "        vertical-align: top;\n",
       "    }\n",
       "\n",
       "    .dataframe thead th {\n",
       "        text-align: right;\n",
       "    }\n",
       "</style>\n",
       "<table border=\"1\" class=\"dataframe\">\n",
       "  <thead>\n",
       "    <tr style=\"text-align: right;\">\n",
       "      <th></th>\n",
       "      <th>Transaction date</th>\n",
       "      <th>House Age</th>\n",
       "      <th>Distance from nearest Metro station (km)</th>\n",
       "      <th>Number of convenience stores</th>\n",
       "      <th>latitude</th>\n",
       "      <th>longitude</th>\n",
       "      <th>Number of bedrooms</th>\n",
       "      <th>House size (sqft)</th>\n",
       "    </tr>\n",
       "  </thead>\n",
       "  <tbody>\n",
       "    <tr>\n",
       "      <th>0</th>\n",
       "      <td>2012.916667</td>\n",
       "      <td>32.0</td>\n",
       "      <td>84.87882</td>\n",
       "      <td>10</td>\n",
       "      <td>24.98298</td>\n",
       "      <td>121.54024</td>\n",
       "      <td>1</td>\n",
       "      <td>575</td>\n",
       "    </tr>\n",
       "    <tr>\n",
       "      <th>1</th>\n",
       "      <td>2012.916667</td>\n",
       "      <td>19.5</td>\n",
       "      <td>306.59470</td>\n",
       "      <td>9</td>\n",
       "      <td>24.98034</td>\n",
       "      <td>121.53951</td>\n",
       "      <td>2</td>\n",
       "      <td>1240</td>\n",
       "    </tr>\n",
       "    <tr>\n",
       "      <th>2</th>\n",
       "      <td>2013.583333</td>\n",
       "      <td>13.3</td>\n",
       "      <td>561.98450</td>\n",
       "      <td>5</td>\n",
       "      <td>24.98746</td>\n",
       "      <td>121.54391</td>\n",
       "      <td>3</td>\n",
       "      <td>1060</td>\n",
       "    </tr>\n",
       "    <tr>\n",
       "      <th>3</th>\n",
       "      <td>2013.500000</td>\n",
       "      <td>13.3</td>\n",
       "      <td>561.98450</td>\n",
       "      <td>5</td>\n",
       "      <td>24.98746</td>\n",
       "      <td>121.54391</td>\n",
       "      <td>2</td>\n",
       "      <td>875</td>\n",
       "    </tr>\n",
       "    <tr>\n",
       "      <th>4</th>\n",
       "      <td>2012.833333</td>\n",
       "      <td>5.0</td>\n",
       "      <td>390.56840</td>\n",
       "      <td>5</td>\n",
       "      <td>24.97937</td>\n",
       "      <td>121.54245</td>\n",
       "      <td>1</td>\n",
       "      <td>491</td>\n",
       "    </tr>\n",
       "  </tbody>\n",
       "</table>\n",
       "</div>"
      ],
      "text/plain": [
       "   Transaction date  House Age  Distance from nearest Metro station (km)  \\\n",
       "0       2012.916667       32.0                                  84.87882   \n",
       "1       2012.916667       19.5                                 306.59470   \n",
       "2       2013.583333       13.3                                 561.98450   \n",
       "3       2013.500000       13.3                                 561.98450   \n",
       "4       2012.833333        5.0                                 390.56840   \n",
       "\n",
       "   Number of convenience stores  latitude  longitude  Number of bedrooms  \\\n",
       "0                            10  24.98298  121.54024                   1   \n",
       "1                             9  24.98034  121.53951                   2   \n",
       "2                             5  24.98746  121.54391                   3   \n",
       "3                             5  24.98746  121.54391                   2   \n",
       "4                             5  24.97937  121.54245                   1   \n",
       "\n",
       "   House size (sqft)  \n",
       "0                575  \n",
       "1               1240  \n",
       "2               1060  \n",
       "3                875  \n",
       "4                491  "
      ]
     },
     "execution_count": 7,
     "metadata": {},
     "output_type": "execute_result"
    }
   ],
   "source": [
    "x.head()"
   ]
  },
  {
   "cell_type": "code",
   "execution_count": 8,
   "id": "82bd8a77",
   "metadata": {},
   "outputs": [],
   "source": [
    "y = df.iloc[:,-1:]"
   ]
  },
  {
   "cell_type": "code",
   "execution_count": 9,
   "id": "3159d7e7",
   "metadata": {},
   "outputs": [
    {
     "data": {
      "text/html": [
       "<div>\n",
       "<style scoped>\n",
       "    .dataframe tbody tr th:only-of-type {\n",
       "        vertical-align: middle;\n",
       "    }\n",
       "\n",
       "    .dataframe tbody tr th {\n",
       "        vertical-align: top;\n",
       "    }\n",
       "\n",
       "    .dataframe thead th {\n",
       "        text-align: right;\n",
       "    }\n",
       "</style>\n",
       "<table border=\"1\" class=\"dataframe\">\n",
       "  <thead>\n",
       "    <tr style=\"text-align: right;\">\n",
       "      <th></th>\n",
       "      <th>House price of unit area</th>\n",
       "    </tr>\n",
       "  </thead>\n",
       "  <tbody>\n",
       "    <tr>\n",
       "      <th>0</th>\n",
       "      <td>37.9</td>\n",
       "    </tr>\n",
       "    <tr>\n",
       "      <th>1</th>\n",
       "      <td>42.2</td>\n",
       "    </tr>\n",
       "    <tr>\n",
       "      <th>2</th>\n",
       "      <td>47.3</td>\n",
       "    </tr>\n",
       "    <tr>\n",
       "      <th>3</th>\n",
       "      <td>54.8</td>\n",
       "    </tr>\n",
       "    <tr>\n",
       "      <th>4</th>\n",
       "      <td>43.1</td>\n",
       "    </tr>\n",
       "  </tbody>\n",
       "</table>\n",
       "</div>"
      ],
      "text/plain": [
       "   House price of unit area\n",
       "0                      37.9\n",
       "1                      42.2\n",
       "2                      47.3\n",
       "3                      54.8\n",
       "4                      43.1"
      ]
     },
     "execution_count": 9,
     "metadata": {},
     "output_type": "execute_result"
    }
   ],
   "source": [
    "y.head()"
   ]
  },
  {
   "cell_type": "code",
   "execution_count": 10,
   "id": "782b92b0",
   "metadata": {},
   "outputs": [
    {
     "name": "stdout",
     "output_type": "stream",
     "text": [
      "<class 'pandas.core.frame.DataFrame'>\n",
      "RangeIndex: 414 entries, 0 to 413\n",
      "Data columns (total 1 columns):\n",
      " #   Column                    Non-Null Count  Dtype  \n",
      "---  ------                    --------------  -----  \n",
      " 0   House price of unit area  414 non-null    float64\n",
      "dtypes: float64(1)\n",
      "memory usage: 3.4 KB\n"
     ]
    }
   ],
   "source": [
    "y.info()"
   ]
  },
  {
   "cell_type": "code",
   "execution_count": 12,
   "id": "79a70a3c",
   "metadata": {},
   "outputs": [
    {
     "data": {
      "image/png": "[encoded data removed]",
      "text/plain": [
       "<Figure size 2000x2000 with 9 Axes>"
      ]
     },
     "metadata": {},
     "output_type": "display_data"
    }
   ],
   "source": [
    "hplot = df.hist(figsize = (20,20))\n"
   ]
  },
  {
   "cell_type": "code",
   "execution_count": 13,
   "id": "0084ac02",
   "metadata": {},
   "outputs": [
    {
     "name": "stdout",
     "output_type": "stream",
     "text": [
      "42.5    4\n",
      "40.3    4\n",
      "29.3    4\n",
      "40.6    4\n",
      "37.4    4\n",
      "       ..\n",
      "55.9    1\n",
      "22.9    1\n",
      "21.5    1\n",
      "55.1    1\n",
      "63.9    1\n",
      "Name: House price of unit area, Length: 270, dtype: int64\n"
     ]
    }
   ],
   "source": [
    "print(df[\"House price of unit area\"].value_counts())"
   ]
  },
  {
   "cell_type": "code",
   "execution_count": 14,
   "id": "43a2a45c",
   "metadata": {},
   "outputs": [],
   "source": [
    "from sklearn.model_selection import train_test_split"
   ]
  },
  {
   "cell_type": "code",
   "execution_count": 15,
   "id": "f710b7c4",
   "metadata": {},
   "outputs": [],
   "source": [
    "X_train,X_test,Y_train,Y_test=train_test_split(x,y,test_size=0.35,random_state=30)"
   ]
  },
  {
   "cell_type": "code",
   "execution_count": 19,
   "id": "8e2e0ea1",
   "metadata": {},
   "outputs": [],
   "source": [
    "from sklearn import metrics\n",
    "from sklearn.model_selection import cross_val_score\n",
    "\n",
    "def cross_val(model):\n",
    "    pred = cross_val_score(model, x, y, cv=10)\n",
    "    return pred.mean()\n",
    "\n",
    "def print_evaluate(true, predicted):  \n",
    "    mae = metrics.mean_absolute_error(true, predicted)\n",
    "    mse = metrics.mean_squared_error(true, predicted)\n",
    "    rmse = np.sqrt(metrics.mean_squared_error(true, predicted))\n",
    "    r2_square = metrics.r2_score(true, predicted)\n",
    "    print('MAE:', mae)\n",
    "    print('MSE:', mse)\n",
    "    print('RMSE:', rmse)\n",
    "    print('R2 Square', r2_square)\n",
    "    print('__________________________________')\n",
    "    \n",
    "def evaluate(true, predicted):\n",
    "    mae = metrics.mean_absolute_error(true, predicted)\n",
    "    mse = metrics.mean_squared_error(true, predicted)\n",
    "    rmse = np.sqrt(metrics.mean_squared_error(true, predicted))\n",
    "    r2_square = metrics.r2_score(true, predicted)\n",
    "    return mae, mse, rmse, r2_square\n",
    "\n"
   ]
  },
  {
   "cell_type": "code",
   "execution_count": 20,
   "id": "155fe25e",
   "metadata": {},
   "outputs": [
    {
     "data": {
      "text/plain": [
       "array([-0.17411478, -0.08640567, -0.72551143,  1.34374718,  0.67534016,\n",
       "        0.61117188,  1.25667984, -0.12780842])"
      ]
     },
     "execution_count": 20,
     "metadata": {},
     "output_type": "execute_result"
    }
   ],
   "source": [
    "from sklearn.preprocessing import StandardScaler\n",
    "from sklearn.pipeline import Pipeline\n",
    "\n",
    "pipeline = Pipeline([('std_scalar', StandardScaler())])\n",
    "\n",
    "#what are pipelines \n",
    "# what are we doing in the above line\n",
    "\n",
    "X_train = pipeline.fit_transform(X_train)\n",
    "X_test = pipeline.transform(X_test)\n",
    "\n",
    "X_train[0]"
   ]
  },
  {
   "cell_type": "code",
   "execution_count": 21,
   "id": "0b199333",
   "metadata": {},
   "outputs": [
    {
     "name": "stderr",
     "output_type": "stream",
     "text": [
      "C:\\Users\\Anant Paliwal\\anaconda3\\lib\\site-packages\\sklearn\\linear_model\\_base.py:141: FutureWarning: 'normalize' was deprecated in version 1.0 and will be removed in 1.2.\n",
      "If you wish to scale the data, use Pipeline with a StandardScaler in a preprocessing stage. To reproduce the previous behavior:\n",
      "\n",
      "from sklearn.pipeline import make_pipeline\n",
      "\n",
      "model = make_pipeline(StandardScaler(with_mean=False), LinearRegression())\n",
      "\n",
      "If you wish to pass a sample_weight parameter, you need to pass it as a fit parameter to each step of the pipeline as follows:\n",
      "\n",
      "kwargs = {s[0] + '__sample_weight': sample_weight for s in model.steps}\n",
      "model.fit(X, y, **kwargs)\n",
      "\n",
      "\n",
      "  warnings.warn(\n"
     ]
    },
    {
     "data": {
      "text/plain": [
       "LinearRegression(normalize=True)"
      ]
     },
     "execution_count": 21,
     "metadata": {},
     "output_type": "execute_result"
    }
   ],
   "source": [
    "from sklearn.linear_model import LinearRegression\n",
    "\n",
    "lin_reg = LinearRegression(normalize=True) \n",
    "lin_reg.fit(X_train,Y_train)"
   ]
  },
  {
   "cell_type": "code",
   "execution_count": 22,
   "id": "76b5a402",
   "metadata": {},
   "outputs": [
    {
     "name": "stdout",
     "output_type": "stream",
     "text": [
      "[36.67472119]\n"
     ]
    }
   ],
   "source": [
    "# print the intercept\n",
    "print(lin_reg.intercept_)"
   ]
  },
  {
   "cell_type": "markdown",
   "id": "e31da322",
   "metadata": {},
   "source": [
    "# Predictions from our Model"
   ]
  },
  {
   "cell_type": "code",
   "execution_count": 23,
   "id": "9359c8ed",
   "metadata": {},
   "outputs": [],
   "source": [
    "pred = lin_reg.predict(X_test)"
   ]
  },
  {
   "cell_type": "code",
   "execution_count": 24,
   "id": "314fa202",
   "metadata": {},
   "outputs": [
    {
     "data": {
      "text/plain": [
       "array([31.52425863])"
      ]
     },
     "execution_count": 24,
     "metadata": {},
     "output_type": "execute_result"
    }
   ],
   "source": [
    "pred[0]\n"
   ]
  },
  {
   "cell_type": "code",
   "execution_count": 25,
   "id": "b328efdf",
   "metadata": {},
   "outputs": [
    {
     "data": {
      "text/plain": [
       "<matplotlib.collections.PathCollection at 0x1986be91400>"
      ]
     },
     "execution_count": 25,
     "metadata": {},
     "output_type": "execute_result"
    },
    {
     "data": {
      "image/png": "[encoded data removed]",
      "text/plain": [
       "<Figure size 640x480 with 1 Axes>"
      ]
     },
     "metadata": {},
     "output_type": "display_data"
    }
   ],
   "source": [
    "plt.scatter(Y_test, pred)\n",
    "#how to draw the regression line in the following plot"
   ]
  },
  {
   "cell_type": "markdown",
   "id": "16e008dc",
   "metadata": {},
   "source": [
    "# Residual Histogram"
   ]
  },
  {
   "cell_type": "code",
   "execution_count": 26,
   "id": "1dfb1225",
   "metadata": {},
   "outputs": [
    {
     "name": "stderr",
     "output_type": "stream",
     "text": [
      "C:\\Users\\Anant Paliwal\\anaconda3\\lib\\site-packages\\seaborn\\distributions.py:2619: FutureWarning: `distplot` is a deprecated function and will be removed in a future version. Please adapt your code to use either `displot` (a figure-level function with similar flexibility) or `histplot` (an axes-level function for histograms).\n",
      "  warnings.warn(msg, FutureWarning)\n"
     ]
    },
    {
     "data": {
      "image/png": "[encoded data removed]",
      "text/plain": [
       "<Figure size 640x480 with 1 Axes>"
      ]
     },
     "metadata": {},
     "output_type": "display_data"
    }
   ],
   "source": [
    "sns.distplot((Y_test - pred), bins=50);  # what does this tell?"
   ]
  },
  {
   "cell_type": "markdown",
   "id": "a41ce9e5",
   "metadata": {},
   "source": [
    "# Regression Evaluation Metrics"
   ]
  },
  {
   "cell_type": "code",
   "execution_count": 27,
   "id": "e32f152c",
   "metadata": {},
   "outputs": [
    {
     "name": "stdout",
     "output_type": "stream",
     "text": [
      "Test set evaluation:\n",
      "_____________________________________\n",
      "MAE: 7.365469367941233\n",
      "MSE: 135.72709973788702\n",
      "RMSE: 11.650197411970623\n",
      "R2 Square 0.42205335668017074\n",
      "__________________________________\n",
      "Train set evaluation:\n",
      "_____________________________________\n",
      "MAE: 5.323626673027916\n",
      "MSE: 48.408902595709485\n",
      "RMSE: 6.95765065203115\n",
      "R2 Square 0.6831639769592177\n",
      "__________________________________\n"
     ]
    }
   ],
   "source": [
    "%matplotlib inline\n",
    "test_pred = lin_reg.predict(X_test)\n",
    "train_pred = lin_reg.predict(X_train)\n",
    "\n",
    "print('Test set evaluation:\\n_____________________________________')\n",
    "print_evaluate(Y_test, test_pred)\n",
    "print('Train set evaluation:\\n_____________________________________')\n",
    "print_evaluate(Y_train, train_pred)"
   ]
  },
  {
   "cell_type": "code",
   "execution_count": 28,
   "id": "89444cad",
   "metadata": {},
   "outputs": [
    {
     "data": {
      "text/html": [
       "<div>\n",
       "<style scoped>\n",
       "    .dataframe tbody tr th:only-of-type {\n",
       "        vertical-align: middle;\n",
       "    }\n",
       "\n",
       "    .dataframe tbody tr th {\n",
       "        vertical-align: top;\n",
       "    }\n",
       "\n",
       "    .dataframe thead th {\n",
       "        text-align: right;\n",
       "    }\n",
       "</style>\n",
       "<table border=\"1\" class=\"dataframe\">\n",
       "  <thead>\n",
       "    <tr style=\"text-align: right;\">\n",
       "      <th></th>\n",
       "      <th>Model</th>\n",
       "      <th>MAE</th>\n",
       "      <th>MSE</th>\n",
       "      <th>RMSE</th>\n",
       "      <th>R2 Square</th>\n",
       "      <th>Cross Validation</th>\n",
       "    </tr>\n",
       "  </thead>\n",
       "  <tbody>\n",
       "    <tr>\n",
       "      <th>0</th>\n",
       "      <td>Linear Regression</td>\n",
       "      <td>7.365469</td>\n",
       "      <td>135.7271</td>\n",
       "      <td>11.650197</td>\n",
       "      <td>0.422053</td>\n",
       "      <td>0.57703</td>\n",
       "    </tr>\n",
       "  </tbody>\n",
       "</table>\n",
       "</div>"
      ],
      "text/plain": [
       "               Model       MAE       MSE       RMSE  R2 Square  \\\n",
       "0  Linear Regression  7.365469  135.7271  11.650197   0.422053   \n",
       "\n",
       "   Cross Validation  \n",
       "0           0.57703  "
      ]
     },
     "execution_count": 28,
     "metadata": {},
     "output_type": "execute_result"
    }
   ],
   "source": [
    "results_df = pd.DataFrame(data=[[\"Linear Regression\", *evaluate(Y_test, test_pred) , cross_val(LinearRegression())]], \n",
    "                          columns=['Model', 'MAE', 'MSE', 'RMSE', 'R2 Square', \"Cross Validation\"])\n",
    "results_df\n",
    "\n",
    "# what is cross_vaidation here  cross_val(LinearRegression())?\n",
    "\n",
    "# how to interpret e values 1.006842e+10?"
   ]
  },
  {
   "cell_type": "markdown",
   "id": "02c2d951",
   "metadata": {},
   "source": [
    "# Robust Regression"
   ]
  },
  {
   "cell_type": "code",
   "execution_count": 29,
   "id": "9c1de450",
   "metadata": {},
   "outputs": [
    {
     "name": "stdout",
     "output_type": "stream",
     "text": [
      "Test set evaluation:\n",
      "_____________________________________\n",
      "MAE: 8.683060741199363\n",
      "MSE: 189.01270597948684\n",
      "RMSE: 13.7481891891073\n",
      "R2 Square 0.1951551372083945\n",
      "__________________________________\n",
      "====================================\n",
      "Train set evaluation:\n",
      "_____________________________________\n",
      "MAE: 7.3051067703058905\n",
      "MSE: 125.1736361274827\n",
      "RMSE: 11.188102436404607\n",
      "R2 Square 0.18073918362899122\n",
      "__________________________________\n"
     ]
    }
   ],
   "source": [
    "from sklearn.linear_model import RANSACRegressor\n",
    "\n",
    "model = RANSACRegressor(base_estimator=LinearRegression(), max_trials=100)\n",
    "model.fit(X_train, Y_train)\n",
    "\n",
    "test_pred = model.predict(X_test)\n",
    "train_pred = model.predict(X_train)\n",
    "\n",
    "print('Test set evaluation:\\n_____________________________________')\n",
    "print_evaluate(Y_test, test_pred)\n",
    "print('====================================')\n",
    "print('Train set evaluation:\\n_____________________________________')\n",
    "print_evaluate(Y_train, train_pred)"
   ]
  },
  {
   "cell_type": "code",
   "execution_count": 30,
   "id": "02537a7c",
   "metadata": {},
   "outputs": [
    {
     "name": "stderr",
     "output_type": "stream",
     "text": [
      "C:\\Users\\Anant Paliwal\\AppData\\Local\\Temp\\ipykernel_8916\\272284539.py:3: FutureWarning: The frame.append method is deprecated and will be removed from pandas in a future version. Use pandas.concat instead.\n",
      "  results_df = results_df.append(results_df_2, ignore_index=True)\n"
     ]
    },
    {
     "data": {
      "text/html": [
       "<div>\n",
       "<style scoped>\n",
       "    .dataframe tbody tr th:only-of-type {\n",
       "        vertical-align: middle;\n",
       "    }\n",
       "\n",
       "    .dataframe tbody tr th {\n",
       "        vertical-align: top;\n",
       "    }\n",
       "\n",
       "    .dataframe thead th {\n",
       "        text-align: right;\n",
       "    }\n",
       "</style>\n",
       "<table border=\"1\" class=\"dataframe\">\n",
       "  <thead>\n",
       "    <tr style=\"text-align: right;\">\n",
       "      <th></th>\n",
       "      <th>Model</th>\n",
       "      <th>MAE</th>\n",
       "      <th>MSE</th>\n",
       "      <th>RMSE</th>\n",
       "      <th>R2 Square</th>\n",
       "      <th>Cross Validation</th>\n",
       "    </tr>\n",
       "  </thead>\n",
       "  <tbody>\n",
       "    <tr>\n",
       "      <th>0</th>\n",
       "      <td>Linear Regression</td>\n",
       "      <td>7.365469</td>\n",
       "      <td>135.727100</td>\n",
       "      <td>11.650197</td>\n",
       "      <td>0.422053</td>\n",
       "      <td>0.577030</td>\n",
       "    </tr>\n",
       "    <tr>\n",
       "      <th>1</th>\n",
       "      <td>Robust Regression</td>\n",
       "      <td>8.683061</td>\n",
       "      <td>189.012706</td>\n",
       "      <td>13.748189</td>\n",
       "      <td>0.195155</td>\n",
       "      <td>0.325149</td>\n",
       "    </tr>\n",
       "  </tbody>\n",
       "</table>\n",
       "</div>"
      ],
      "text/plain": [
       "               Model       MAE         MSE       RMSE  R2 Square  \\\n",
       "0  Linear Regression  7.365469  135.727100  11.650197   0.422053   \n",
       "1  Robust Regression  8.683061  189.012706  13.748189   0.195155   \n",
       "\n",
       "   Cross Validation  \n",
       "0          0.577030  \n",
       "1          0.325149  "
      ]
     },
     "execution_count": 30,
     "metadata": {},
     "output_type": "execute_result"
    }
   ],
   "source": [
    "results_df_2 = pd.DataFrame(data=[[\"Robust Regression\", *evaluate(Y_test, test_pred) , cross_val(RANSACRegressor())]], \n",
    "                            columns=['Model', 'MAE', 'MSE', 'RMSE', 'R2 Square', \"Cross Validation\"])\n",
    "results_df = results_df.append(results_df_2, ignore_index=True)\n",
    "results_df"
   ]
  },
  {
   "cell_type": "code",
   "execution_count": 31,
   "id": "5a580c37",
   "metadata": {},
   "outputs": [
    {
     "data": {
      "text/plain": [
       "189.01270597948684"
      ]
     },
     "execution_count": 31,
     "metadata": {},
     "output_type": "execute_result"
    }
   ],
   "source": [
    "results_df.MSE[1]"
   ]
  },
  {
   "cell_type": "markdown",
   "id": "620bfaeb",
   "metadata": {},
   "source": [
    "# Ridge Regression"
   ]
  },
  {
   "cell_type": "code",
   "execution_count": 32,
   "id": "fbc9853d",
   "metadata": {},
   "outputs": [
    {
     "name": "stdout",
     "output_type": "stream",
     "text": [
      "Test set evaluation:\n",
      "_____________________________________\n",
      "MAE: 7.689261915357267\n",
      "MSE: 141.04309941391932\n",
      "RMSE: 11.87615676108729\n",
      "R2 Square 0.39941702116143174\n",
      "__________________________________\n",
      "====================================\n",
      "Train set evaluation:\n",
      "_____________________________________\n",
      "MAE: 5.527022819926247\n",
      "MSE: 51.608957770612356\n",
      "RMSE: 7.183937483762811\n",
      "R2 Square 0.6622196319986451\n",
      "__________________________________\n"
     ]
    }
   ],
   "source": [
    "from sklearn.linear_model import Ridge\n",
    "\n",
    "model = Ridge(alpha=100, solver='cholesky', tol=0.0001, random_state=42)\n",
    "model.fit(X_train, Y_train)\n",
    "pred = model.predict(X_test)\n",
    "\n",
    "test_pred = model.predict(X_test)\n",
    "train_pred = model.predict(X_train)\n",
    "\n",
    "print('Test set evaluation:\\n_____________________________________')\n",
    "print_evaluate(Y_test, test_pred)\n",
    "print('====================================')\n",
    "print('Train set evaluation:\\n_____________________________________')\n",
    "print_evaluate(Y_train, train_pred)"
   ]
  },
  {
   "cell_type": "code",
   "execution_count": 33,
   "id": "50b1a2f2",
   "metadata": {},
   "outputs": [
    {
     "name": "stderr",
     "output_type": "stream",
     "text": [
      "C:\\Users\\Anant Paliwal\\AppData\\Local\\Temp\\ipykernel_8916\\3847502893.py:3: FutureWarning: The frame.append method is deprecated and will be removed from pandas in a future version. Use pandas.concat instead.\n",
      "  results_df = results_df.append(results_df_2, ignore_index=True)\n"
     ]
    },
    {
     "data": {
      "text/html": [
       "<div>\n",
       "<style scoped>\n",
       "    .dataframe tbody tr th:only-of-type {\n",
       "        vertical-align: middle;\n",
       "    }\n",
       "\n",
       "    .dataframe tbody tr th {\n",
       "        vertical-align: top;\n",
       "    }\n",
       "\n",
       "    .dataframe thead th {\n",
       "        text-align: right;\n",
       "    }\n",
       "</style>\n",
       "<table border=\"1\" class=\"dataframe\">\n",
       "  <thead>\n",
       "    <tr style=\"text-align: right;\">\n",
       "      <th></th>\n",
       "      <th>Model</th>\n",
       "      <th>MAE</th>\n",
       "      <th>MSE</th>\n",
       "      <th>RMSE</th>\n",
       "      <th>R2 Square</th>\n",
       "      <th>Cross Validation</th>\n",
       "    </tr>\n",
       "  </thead>\n",
       "  <tbody>\n",
       "    <tr>\n",
       "      <th>0</th>\n",
       "      <td>Linear Regression</td>\n",
       "      <td>7.365469</td>\n",
       "      <td>135.727100</td>\n",
       "      <td>11.650197</td>\n",
       "      <td>0.422053</td>\n",
       "      <td>0.577030</td>\n",
       "    </tr>\n",
       "    <tr>\n",
       "      <th>1</th>\n",
       "      <td>Robust Regression</td>\n",
       "      <td>8.683061</td>\n",
       "      <td>189.012706</td>\n",
       "      <td>13.748189</td>\n",
       "      <td>0.195155</td>\n",
       "      <td>0.325149</td>\n",
       "    </tr>\n",
       "    <tr>\n",
       "      <th>2</th>\n",
       "      <td>Ridge Regression</td>\n",
       "      <td>7.689262</td>\n",
       "      <td>141.043099</td>\n",
       "      <td>11.876157</td>\n",
       "      <td>0.399417</td>\n",
       "      <td>0.556839</td>\n",
       "    </tr>\n",
       "  </tbody>\n",
       "</table>\n",
       "</div>"
      ],
      "text/plain": [
       "               Model       MAE         MSE       RMSE  R2 Square  \\\n",
       "0  Linear Regression  7.365469  135.727100  11.650197   0.422053   \n",
       "1  Robust Regression  8.683061  189.012706  13.748189   0.195155   \n",
       "2   Ridge Regression  7.689262  141.043099  11.876157   0.399417   \n",
       "\n",
       "   Cross Validation  \n",
       "0          0.577030  \n",
       "1          0.325149  \n",
       "2          0.556839  "
      ]
     },
     "execution_count": 33,
     "metadata": {},
     "output_type": "execute_result"
    }
   ],
   "source": [
    "results_df_2 = pd.DataFrame(data=[[\"Ridge Regression\", *evaluate(Y_test, test_pred) , cross_val(Ridge())]], \n",
    "                            columns=['Model', 'MAE', 'MSE', 'RMSE', 'R2 Square', \"Cross Validation\"])\n",
    "results_df = results_df.append(results_df_2, ignore_index=True)\n",
    "results_df"
   ]
  },
  {
   "cell_type": "markdown",
   "id": "7ae94070",
   "metadata": {},
   "source": [
    "# LASSO Regression"
   ]
  },
  {
   "cell_type": "code",
   "execution_count": 34,
   "id": "97e70754",
   "metadata": {},
   "outputs": [
    {
     "name": "stdout",
     "output_type": "stream",
     "text": [
      "Test set evaluation:\n",
      "_____________________________________\n",
      "MAE: 8.200696027092691\n",
      "MSE: 153.56286269482982\n",
      "RMSE: 12.39204836557822\n",
      "R2 Square 0.3461059640671993\n",
      "__________________________________\n",
      "====================================\n",
      "Train set evaluation:\n",
      "_____________________________________\n",
      "MAE: 6.227650543314332\n",
      "MSE: 65.54657328766164\n",
      "RMSE: 8.096083824149899\n",
      "R2 Square 0.5709980088196727\n",
      "__________________________________\n"
     ]
    }
   ],
   "source": [
    "from sklearn.linear_model import Lasso\n",
    "\n",
    "model = Lasso(alpha=0.1, \n",
    "              precompute=True, \n",
    "#               warm_start=True, \n",
    "              positive=True, \n",
    "              selection='random',\n",
    "              random_state=42)\n",
    "model.fit(X_train, Y_train)\n",
    "\n",
    "test_pred = model.predict(X_test)\n",
    "train_pred = model.predict(X_train)\n",
    "\n",
    "print('Test set evaluation:\\n_____________________________________')\n",
    "print_evaluate(Y_test, test_pred)\n",
    "print('====================================')\n",
    "print('Train set evaluation:\\n_____________________________________')\n",
    "print_evaluate(Y_train, train_pred)"
   ]
  },
  {
   "cell_type": "code",
   "execution_count": 35,
   "id": "8135eee3",
   "metadata": {},
   "outputs": [
    {
     "name": "stderr",
     "output_type": "stream",
     "text": [
      "C:\\Users\\Anant Paliwal\\AppData\\Local\\Temp\\ipykernel_8916\\2195001867.py:3: FutureWarning: The frame.append method is deprecated and will be removed from pandas in a future version. Use pandas.concat instead.\n",
      "  results_df = results_df.append(results_df_2, ignore_index=True)\n"
     ]
    },
    {
     "data": {
      "text/html": [
       "<div>\n",
       "<style scoped>\n",
       "    .dataframe tbody tr th:only-of-type {\n",
       "        vertical-align: middle;\n",
       "    }\n",
       "\n",
       "    .dataframe tbody tr th {\n",
       "        vertical-align: top;\n",
       "    }\n",
       "\n",
       "    .dataframe thead th {\n",
       "        text-align: right;\n",
       "    }\n",
       "</style>\n",
       "<table border=\"1\" class=\"dataframe\">\n",
       "  <thead>\n",
       "    <tr style=\"text-align: right;\">\n",
       "      <th></th>\n",
       "      <th>Model</th>\n",
       "      <th>MAE</th>\n",
       "      <th>MSE</th>\n",
       "      <th>RMSE</th>\n",
       "      <th>R2 Square</th>\n",
       "      <th>Cross Validation</th>\n",
       "    </tr>\n",
       "  </thead>\n",
       "  <tbody>\n",
       "    <tr>\n",
       "      <th>0</th>\n",
       "      <td>Linear Regression</td>\n",
       "      <td>7.365469</td>\n",
       "      <td>135.727100</td>\n",
       "      <td>11.650197</td>\n",
       "      <td>0.422053</td>\n",
       "      <td>0.577030</td>\n",
       "    </tr>\n",
       "    <tr>\n",
       "      <th>1</th>\n",
       "      <td>Robust Regression</td>\n",
       "      <td>8.683061</td>\n",
       "      <td>189.012706</td>\n",
       "      <td>13.748189</td>\n",
       "      <td>0.195155</td>\n",
       "      <td>0.325149</td>\n",
       "    </tr>\n",
       "    <tr>\n",
       "      <th>2</th>\n",
       "      <td>Ridge Regression</td>\n",
       "      <td>7.689262</td>\n",
       "      <td>141.043099</td>\n",
       "      <td>11.876157</td>\n",
       "      <td>0.399417</td>\n",
       "      <td>0.556839</td>\n",
       "    </tr>\n",
       "    <tr>\n",
       "      <th>3</th>\n",
       "      <td>Lasso Regression</td>\n",
       "      <td>8.200696</td>\n",
       "      <td>153.562863</td>\n",
       "      <td>12.392048</td>\n",
       "      <td>0.346106</td>\n",
       "      <td>0.543471</td>\n",
       "    </tr>\n",
       "  </tbody>\n",
       "</table>\n",
       "</div>"
      ],
      "text/plain": [
       "               Model       MAE         MSE       RMSE  R2 Square  \\\n",
       "0  Linear Regression  7.365469  135.727100  11.650197   0.422053   \n",
       "1  Robust Regression  8.683061  189.012706  13.748189   0.195155   \n",
       "2   Ridge Regression  7.689262  141.043099  11.876157   0.399417   \n",
       "3   Lasso Regression  8.200696  153.562863  12.392048   0.346106   \n",
       "\n",
       "   Cross Validation  \n",
       "0          0.577030  \n",
       "1          0.325149  \n",
       "2          0.556839  \n",
       "3          0.543471  "
      ]
     },
     "execution_count": 35,
     "metadata": {},
     "output_type": "execute_result"
    }
   ],
   "source": [
    "results_df_2 = pd.DataFrame(data=[[\"Lasso Regression\", *evaluate(Y_test, test_pred) , cross_val(Lasso())]], \n",
    "                            columns=['Model', 'MAE', 'MSE', 'RMSE', 'R2 Square', \"Cross Validation\"])\n",
    "results_df = results_df.append(results_df_2, ignore_index=True)\n",
    "results_df"
   ]
  },
  {
   "cell_type": "markdown",
   "id": "75a5c584",
   "metadata": {},
   "source": [
    "# Elastic Net"
   ]
  },
  {
   "cell_type": "code",
   "execution_count": 36,
   "id": "80534cc6",
   "metadata": {},
   "outputs": [
    {
     "name": "stdout",
     "output_type": "stream",
     "text": [
      "Test set evaluation:\n",
      "_____________________________________\n",
      "MAE: 7.386935912030223\n",
      "MSE: 136.26341856017464\n",
      "RMSE: 11.673192303743422\n",
      "R2 Square 0.4197696295270159\n",
      "__________________________________\n",
      "====================================\n",
      "Train set evaluation:\n",
      "_____________________________________\n",
      "MAE: 5.32841957861297\n",
      "MSE: 48.46568175186992\n",
      "RMSE: 6.961729795953727\n",
      "R2 Square 0.6827923576688628\n",
      "__________________________________\n"
     ]
    }
   ],
   "source": [
    "from sklearn.linear_model import ElasticNet\n",
    "\n",
    "model = ElasticNet(alpha=0.1, l1_ratio=0.9, selection='random', random_state=42)\n",
    "model.fit(X_train, Y_train)\n",
    "\n",
    "test_pred = model.predict(X_test)\n",
    "train_pred = model.predict(X_train)\n",
    "\n",
    "print('Test set evaluation:\\n_____________________________________')\n",
    "print_evaluate(Y_test, test_pred)\n",
    "print('====================================')\n",
    "print('Train set evaluation:\\n_____________________________________')\n",
    "print_evaluate(Y_train, train_pred)"
   ]
  },
  {
   "cell_type": "code",
   "execution_count": 37,
   "id": "3fdd5575",
   "metadata": {},
   "outputs": [
    {
     "name": "stderr",
     "output_type": "stream",
     "text": [
      "C:\\Users\\Anant Paliwal\\AppData\\Local\\Temp\\ipykernel_8916\\3214791754.py:3: FutureWarning: The frame.append method is deprecated and will be removed from pandas in a future version. Use pandas.concat instead.\n",
      "  results_df = results_df.append(results_df_2, ignore_index=True)\n"
     ]
    },
    {
     "data": {
      "text/html": [
       "<div>\n",
       "<style scoped>\n",
       "    .dataframe tbody tr th:only-of-type {\n",
       "        vertical-align: middle;\n",
       "    }\n",
       "\n",
       "    .dataframe tbody tr th {\n",
       "        vertical-align: top;\n",
       "    }\n",
       "\n",
       "    .dataframe thead th {\n",
       "        text-align: right;\n",
       "    }\n",
       "</style>\n",
       "<table border=\"1\" class=\"dataframe\">\n",
       "  <thead>\n",
       "    <tr style=\"text-align: right;\">\n",
       "      <th></th>\n",
       "      <th>Model</th>\n",
       "      <th>MAE</th>\n",
       "      <th>MSE</th>\n",
       "      <th>RMSE</th>\n",
       "      <th>R2 Square</th>\n",
       "      <th>Cross Validation</th>\n",
       "    </tr>\n",
       "  </thead>\n",
       "  <tbody>\n",
       "    <tr>\n",
       "      <th>0</th>\n",
       "      <td>Linear Regression</td>\n",
       "      <td>7.365469</td>\n",
       "      <td>135.727100</td>\n",
       "      <td>11.650197</td>\n",
       "      <td>0.422053</td>\n",
       "      <td>0.577030</td>\n",
       "    </tr>\n",
       "    <tr>\n",
       "      <th>1</th>\n",
       "      <td>Robust Regression</td>\n",
       "      <td>8.683061</td>\n",
       "      <td>189.012706</td>\n",
       "      <td>13.748189</td>\n",
       "      <td>0.195155</td>\n",
       "      <td>0.325149</td>\n",
       "    </tr>\n",
       "    <tr>\n",
       "      <th>2</th>\n",
       "      <td>Ridge Regression</td>\n",
       "      <td>7.689262</td>\n",
       "      <td>141.043099</td>\n",
       "      <td>11.876157</td>\n",
       "      <td>0.399417</td>\n",
       "      <td>0.556839</td>\n",
       "    </tr>\n",
       "    <tr>\n",
       "      <th>3</th>\n",
       "      <td>Lasso Regression</td>\n",
       "      <td>8.200696</td>\n",
       "      <td>153.562863</td>\n",
       "      <td>12.392048</td>\n",
       "      <td>0.346106</td>\n",
       "      <td>0.543471</td>\n",
       "    </tr>\n",
       "    <tr>\n",
       "      <th>4</th>\n",
       "      <td>Elastic Net Regression</td>\n",
       "      <td>7.386936</td>\n",
       "      <td>136.263419</td>\n",
       "      <td>11.673192</td>\n",
       "      <td>0.419770</td>\n",
       "      <td>0.543508</td>\n",
       "    </tr>\n",
       "  </tbody>\n",
       "</table>\n",
       "</div>"
      ],
      "text/plain": [
       "                    Model       MAE         MSE       RMSE  R2 Square  \\\n",
       "0       Linear Regression  7.365469  135.727100  11.650197   0.422053   \n",
       "1       Robust Regression  8.683061  189.012706  13.748189   0.195155   \n",
       "2        Ridge Regression  7.689262  141.043099  11.876157   0.399417   \n",
       "3        Lasso Regression  8.200696  153.562863  12.392048   0.346106   \n",
       "4  Elastic Net Regression  7.386936  136.263419  11.673192   0.419770   \n",
       "\n",
       "   Cross Validation  \n",
       "0          0.577030  \n",
       "1          0.325149  \n",
       "2          0.556839  \n",
       "3          0.543471  \n",
       "4          0.543508  "
      ]
     },
     "execution_count": 37,
     "metadata": {},
     "output_type": "execute_result"
    }
   ],
   "source": [
    "results_df_2 = pd.DataFrame(data=[[\"Elastic Net Regression\", *evaluate(Y_test, test_pred) , cross_val(ElasticNet())]], \n",
    "                            columns=['Model', 'MAE', 'MSE', 'RMSE', 'R2 Square', \"Cross Validation\"])\n",
    "results_df = results_df.append(results_df_2, ignore_index=True)\n",
    "results_df"
   ]
  },
  {
   "cell_type": "markdown",
   "id": "aa6db1d5",
   "metadata": {},
   "source": [
    "# Polynomial Regression"
   ]
  },
  {
   "cell_type": "code",
   "execution_count": 38,
   "id": "adae2c42",
   "metadata": {},
   "outputs": [
    {
     "name": "stdout",
     "output_type": "stream",
     "text": [
      "Test set evaluation:\n",
      "_____________________________________\n",
      "MAE: 6.741959059678544\n",
      "MSE: 113.54418407906111\n",
      "RMSE: 10.65571133613618\n",
      "R2 Square 0.5165115869733402\n",
      "__________________________________\n",
      "====================================\n",
      "Train set evaluation:\n",
      "_____________________________________\n",
      "MAE: 3.8865868127821015\n",
      "MSE: 27.394782091567357\n",
      "RMSE: 5.2340024925067965\n",
      "R2 Square 0.8207012895448217\n",
      "__________________________________\n"
     ]
    },
    {
     "name": "stderr",
     "output_type": "stream",
     "text": [
      "C:\\Users\\Anant Paliwal\\anaconda3\\lib\\site-packages\\sklearn\\linear_model\\_base.py:141: FutureWarning: 'normalize' was deprecated in version 1.0 and will be removed in 1.2.\n",
      "If you wish to scale the data, use Pipeline with a StandardScaler in a preprocessing stage. To reproduce the previous behavior:\n",
      "\n",
      "from sklearn.pipeline import make_pipeline\n",
      "\n",
      "model = make_pipeline(StandardScaler(with_mean=False), LinearRegression())\n",
      "\n",
      "If you wish to pass a sample_weight parameter, you need to pass it as a fit parameter to each step of the pipeline as follows:\n",
      "\n",
      "kwargs = {s[0] + '__sample_weight': sample_weight for s in model.steps}\n",
      "model.fit(X, y, **kwargs)\n",
      "\n",
      "\n",
      "  warnings.warn(\n"
     ]
    }
   ],
   "source": [
    "from sklearn.preprocessing import PolynomialFeatures\n",
    "\n",
    "poly_reg = PolynomialFeatures(degree=2)\n",
    "\n",
    "X_train_2_d = poly_reg.fit_transform(X_train)\n",
    "X_test_2_d = poly_reg.transform(X_test)\n",
    "\n",
    "lin_reg = LinearRegression(normalize=True)\n",
    "lin_reg.fit(X_train_2_d,Y_train)\n",
    "\n",
    "test_pred = lin_reg.predict(X_test_2_d)\n",
    "train_pred = lin_reg.predict(X_train_2_d)\n",
    "\n",
    "print('Test set evaluation:\\n_____________________________________')\n",
    "print_evaluate(Y_test, test_pred)\n",
    "print('====================================')\n",
    "print('Train set evaluation:\\n_____________________________________')\n",
    "print_evaluate(Y_train, train_pred)"
   ]
  },
  {
   "cell_type": "code",
   "execution_count": 39,
   "id": "e6be22fd",
   "metadata": {},
   "outputs": [
    {
     "name": "stderr",
     "output_type": "stream",
     "text": [
      "C:\\Users\\Anant Paliwal\\AppData\\Local\\Temp\\ipykernel_8916\\4084272602.py:3: FutureWarning: The frame.append method is deprecated and will be removed from pandas in a future version. Use pandas.concat instead.\n",
      "  results_df = results_df.append(results_df_2, ignore_index=True)\n"
     ]
    },
    {
     "data": {
      "text/html": [
       "<div>\n",
       "<style scoped>\n",
       "    .dataframe tbody tr th:only-of-type {\n",
       "        vertical-align: middle;\n",
       "    }\n",
       "\n",
       "    .dataframe tbody tr th {\n",
       "        vertical-align: top;\n",
       "    }\n",
       "\n",
       "    .dataframe thead th {\n",
       "        text-align: right;\n",
       "    }\n",
       "</style>\n",
       "<table border=\"1\" class=\"dataframe\">\n",
       "  <thead>\n",
       "    <tr style=\"text-align: right;\">\n",
       "      <th></th>\n",
       "      <th>Model</th>\n",
       "      <th>MAE</th>\n",
       "      <th>MSE</th>\n",
       "      <th>RMSE</th>\n",
       "      <th>R2 Square</th>\n",
       "      <th>Cross Validation</th>\n",
       "    </tr>\n",
       "  </thead>\n",
       "  <tbody>\n",
       "    <tr>\n",
       "      <th>0</th>\n",
       "      <td>Linear Regression</td>\n",
       "      <td>7.365469</td>\n",
       "      <td>135.727100</td>\n",
       "      <td>11.650197</td>\n",
       "      <td>0.422053</td>\n",
       "      <td>0.577030</td>\n",
       "    </tr>\n",
       "    <tr>\n",
       "      <th>1</th>\n",
       "      <td>Robust Regression</td>\n",
       "      <td>8.683061</td>\n",
       "      <td>189.012706</td>\n",
       "      <td>13.748189</td>\n",
       "      <td>0.195155</td>\n",
       "      <td>0.325149</td>\n",
       "    </tr>\n",
       "    <tr>\n",
       "      <th>2</th>\n",
       "      <td>Ridge Regression</td>\n",
       "      <td>7.689262</td>\n",
       "      <td>141.043099</td>\n",
       "      <td>11.876157</td>\n",
       "      <td>0.399417</td>\n",
       "      <td>0.556839</td>\n",
       "    </tr>\n",
       "    <tr>\n",
       "      <th>3</th>\n",
       "      <td>Lasso Regression</td>\n",
       "      <td>8.200696</td>\n",
       "      <td>153.562863</td>\n",
       "      <td>12.392048</td>\n",
       "      <td>0.346106</td>\n",
       "      <td>0.543471</td>\n",
       "    </tr>\n",
       "    <tr>\n",
       "      <th>4</th>\n",
       "      <td>Elastic Net Regression</td>\n",
       "      <td>7.386936</td>\n",
       "      <td>136.263419</td>\n",
       "      <td>11.673192</td>\n",
       "      <td>0.419770</td>\n",
       "      <td>0.543508</td>\n",
       "    </tr>\n",
       "    <tr>\n",
       "      <th>5</th>\n",
       "      <td>Polynomail Regression</td>\n",
       "      <td>6.741959</td>\n",
       "      <td>113.544184</td>\n",
       "      <td>10.655711</td>\n",
       "      <td>0.516512</td>\n",
       "      <td>0.000000</td>\n",
       "    </tr>\n",
       "  </tbody>\n",
       "</table>\n",
       "</div>"
      ],
      "text/plain": [
       "                    Model       MAE         MSE       RMSE  R2 Square  \\\n",
       "0       Linear Regression  7.365469  135.727100  11.650197   0.422053   \n",
       "1       Robust Regression  8.683061  189.012706  13.748189   0.195155   \n",
       "2        Ridge Regression  7.689262  141.043099  11.876157   0.399417   \n",
       "3        Lasso Regression  8.200696  153.562863  12.392048   0.346106   \n",
       "4  Elastic Net Regression  7.386936  136.263419  11.673192   0.419770   \n",
       "5   Polynomail Regression  6.741959  113.544184  10.655711   0.516512   \n",
       "\n",
       "   Cross Validation  \n",
       "0          0.577030  \n",
       "1          0.325149  \n",
       "2          0.556839  \n",
       "3          0.543471  \n",
       "4          0.543508  \n",
       "5          0.000000  "
      ]
     },
     "execution_count": 39,
     "metadata": {},
     "output_type": "execute_result"
    }
   ],
   "source": [
    "results_df_2 = pd.DataFrame(data=[[\"Polynomail Regression\", *evaluate(Y_test, test_pred), 0]], \n",
    "                            columns=['Model', 'MAE', 'MSE', 'RMSE', 'R2 Square', 'Cross Validation'])\n",
    "results_df = results_df.append(results_df_2, ignore_index=True)\n",
    "results_df"
   ]
  },
  {
   "cell_type": "markdown",
   "id": "ddaebace",
   "metadata": {},
   "source": [
    "# Stochastic Gradient Descent"
   ]
  },
  {
   "cell_type": "code",
   "execution_count": 40,
   "id": "2093f32b",
   "metadata": {},
   "outputs": [
    {
     "name": "stderr",
     "output_type": "stream",
     "text": [
      "C:\\Users\\Anant Paliwal\\anaconda3\\lib\\site-packages\\sklearn\\utils\\validation.py:993: DataConversionWarning: A column-vector y was passed when a 1d array was expected. Please change the shape of y to (n_samples, ), for example using ravel().\n",
      "  y = column_or_1d(y, warn=True)\n"
     ]
    },
    {
     "name": "stdout",
     "output_type": "stream",
     "text": [
      "Test set evaluation:\n",
      "_____________________________________\n",
      "MAE: 7.456190807373282\n",
      "MSE: 141.5740802745146\n",
      "RMSE: 11.898490672119495\n",
      "R2 Square 0.3971560238614028\n",
      "__________________________________\n",
      "====================================\n",
      "Train set evaluation:\n",
      "_____________________________________\n",
      "MAE: 5.361715102797875\n",
      "MSE: 49.425597934452014\n",
      "RMSE: 7.030334126800234\n",
      "R2 Square 0.676509711101106\n",
      "__________________________________\n"
     ]
    }
   ],
   "source": [
    "from sklearn.linear_model import SGDRegressor\n",
    "\n",
    "sgd_reg = SGDRegressor(n_iter_no_change=250, penalty=None, eta0=0.0001, max_iter=100000)\n",
    "sgd_reg.fit(X_train, Y_train)\n",
    "\n",
    "test_pred = sgd_reg.predict(X_test)\n",
    "train_pred = sgd_reg.predict(X_train)\n",
    "\n",
    "print('Test set evaluation:\\n_____________________________________')\n",
    "print_evaluate(Y_test, test_pred)\n",
    "print('====================================')\n",
    "print('Train set evaluation:\\n_____________________________________')\n",
    "print_evaluate(Y_train, train_pred)"
   ]
  },
  {
   "cell_type": "code",
   "execution_count": 41,
   "id": "c117ef3d",
   "metadata": {},
   "outputs": [
    {
     "name": "stderr",
     "output_type": "stream",
     "text": [
      "C:\\Users\\Anant Paliwal\\AppData\\Local\\Temp\\ipykernel_8916\\423436366.py:3: FutureWarning: The frame.append method is deprecated and will be removed from pandas in a future version. Use pandas.concat instead.\n",
      "  results_df = results_df.append(results_df_2, ignore_index=True)\n"
     ]
    },
    {
     "data": {
      "text/html": [
       "<div>\n",
       "<style scoped>\n",
       "    .dataframe tbody tr th:only-of-type {\n",
       "        vertical-align: middle;\n",
       "    }\n",
       "\n",
       "    .dataframe tbody tr th {\n",
       "        vertical-align: top;\n",
       "    }\n",
       "\n",
       "    .dataframe thead th {\n",
       "        text-align: right;\n",
       "    }\n",
       "</style>\n",
       "<table border=\"1\" class=\"dataframe\">\n",
       "  <thead>\n",
       "    <tr style=\"text-align: right;\">\n",
       "      <th></th>\n",
       "      <th>Model</th>\n",
       "      <th>MAE</th>\n",
       "      <th>MSE</th>\n",
       "      <th>RMSE</th>\n",
       "      <th>R2 Square</th>\n",
       "      <th>Cross Validation</th>\n",
       "    </tr>\n",
       "  </thead>\n",
       "  <tbody>\n",
       "    <tr>\n",
       "      <th>0</th>\n",
       "      <td>Linear Regression</td>\n",
       "      <td>7.365469</td>\n",
       "      <td>135.727100</td>\n",
       "      <td>11.650197</td>\n",
       "      <td>0.422053</td>\n",
       "      <td>0.577030</td>\n",
       "    </tr>\n",
       "    <tr>\n",
       "      <th>1</th>\n",
       "      <td>Robust Regression</td>\n",
       "      <td>8.683061</td>\n",
       "      <td>189.012706</td>\n",
       "      <td>13.748189</td>\n",
       "      <td>0.195155</td>\n",
       "      <td>0.325149</td>\n",
       "    </tr>\n",
       "    <tr>\n",
       "      <th>2</th>\n",
       "      <td>Ridge Regression</td>\n",
       "      <td>7.689262</td>\n",
       "      <td>141.043099</td>\n",
       "      <td>11.876157</td>\n",
       "      <td>0.399417</td>\n",
       "      <td>0.556839</td>\n",
       "    </tr>\n",
       "    <tr>\n",
       "      <th>3</th>\n",
       "      <td>Lasso Regression</td>\n",
       "      <td>8.200696</td>\n",
       "      <td>153.562863</td>\n",
       "      <td>12.392048</td>\n",
       "      <td>0.346106</td>\n",
       "      <td>0.543471</td>\n",
       "    </tr>\n",
       "    <tr>\n",
       "      <th>4</th>\n",
       "      <td>Elastic Net Regression</td>\n",
       "      <td>7.386936</td>\n",
       "      <td>136.263419</td>\n",
       "      <td>11.673192</td>\n",
       "      <td>0.419770</td>\n",
       "      <td>0.543508</td>\n",
       "    </tr>\n",
       "    <tr>\n",
       "      <th>5</th>\n",
       "      <td>Polynomail Regression</td>\n",
       "      <td>6.741959</td>\n",
       "      <td>113.544184</td>\n",
       "      <td>10.655711</td>\n",
       "      <td>0.516512</td>\n",
       "      <td>0.000000</td>\n",
       "    </tr>\n",
       "    <tr>\n",
       "      <th>6</th>\n",
       "      <td>Stochastic Gradient Descent</td>\n",
       "      <td>7.456191</td>\n",
       "      <td>141.574080</td>\n",
       "      <td>11.898491</td>\n",
       "      <td>0.397156</td>\n",
       "      <td>0.000000</td>\n",
       "    </tr>\n",
       "  </tbody>\n",
       "</table>\n",
       "</div>"
      ],
      "text/plain": [
       "                         Model       MAE         MSE       RMSE  R2 Square  \\\n",
       "0            Linear Regression  7.365469  135.727100  11.650197   0.422053   \n",
       "1            Robust Regression  8.683061  189.012706  13.748189   0.195155   \n",
       "2             Ridge Regression  7.689262  141.043099  11.876157   0.399417   \n",
       "3             Lasso Regression  8.200696  153.562863  12.392048   0.346106   \n",
       "4       Elastic Net Regression  7.386936  136.263419  11.673192   0.419770   \n",
       "5        Polynomail Regression  6.741959  113.544184  10.655711   0.516512   \n",
       "6  Stochastic Gradient Descent  7.456191  141.574080  11.898491   0.397156   \n",
       "\n",
       "   Cross Validation  \n",
       "0          0.577030  \n",
       "1          0.325149  \n",
       "2          0.556839  \n",
       "3          0.543471  \n",
       "4          0.543508  \n",
       "5          0.000000  \n",
       "6          0.000000  "
      ]
     },
     "execution_count": 41,
     "metadata": {},
     "output_type": "execute_result"
    }
   ],
   "source": [
    "results_df_2 = pd.DataFrame(data=[[\"Stochastic Gradient Descent\", *evaluate(Y_test, test_pred), 0]], \n",
    "                            columns=['Model', 'MAE', 'MSE', 'RMSE', 'R2 Square', 'Cross Validation'])\n",
    "results_df = results_df.append(results_df_2, ignore_index=True)\n",
    "results_df"
   ]
  },
  {
   "cell_type": "markdown",
   "id": "31ec1842",
   "metadata": {},
   "source": [
    "# Artficial Neural Network"
   ]
  },
  {
   "cell_type": "code",
   "execution_count": 42,
   "id": "26715424",
   "metadata": {},
   "outputs": [
    {
     "name": "stdout",
     "output_type": "stream",
     "text": [
      "Epoch 1/100\n",
      "269/269 [==============================] - 4s 7ms/step - loss: 1488.9308 - val_loss: 1843.3381\n",
      "Epoch 2/100\n",
      "269/269 [==============================] - 1s 4ms/step - loss: 1462.7498 - val_loss: 1808.4750\n",
      "Epoch 3/100\n",
      "269/269 [==============================] - 1s 4ms/step - loss: 1425.1213 - val_loss: 1755.7700\n",
      "Epoch 4/100\n",
      "269/269 [==============================] - 1s 5ms/step - loss: 1368.7778 - val_loss: 1676.2784\n",
      "Epoch 5/100\n",
      "269/269 [==============================] - 1s 5ms/step - loss: 1285.5148 - val_loss: 1560.8909\n",
      "Epoch 6/100\n",
      "269/269 [==============================] - 1s 4ms/step - loss: 1169.9779 - val_loss: 1404.1443\n",
      "Epoch 7/100\n",
      "269/269 [==============================] - 1s 5ms/step - loss: 1023.4014 - val_loss: 1217.4773\n",
      "Epoch 8/100\n",
      "269/269 [==============================] - 1s 4ms/step - loss: 863.3249 - val_loss: 1017.1573\n",
      "Epoch 9/100\n",
      "269/269 [==============================] - 1s 4ms/step - loss: 705.6218 - val_loss: 837.9472\n",
      "Epoch 10/100\n",
      "269/269 [==============================] - 1s 4ms/step - loss: 588.2323 - val_loss: 704.5972\n",
      "Epoch 11/100\n",
      "269/269 [==============================] - 1s 4ms/step - loss: 512.0751 - val_loss: 621.6599\n",
      "Epoch 12/100\n",
      "269/269 [==============================] - 1s 4ms/step - loss: 467.9074 - val_loss: 573.7737\n",
      "Epoch 13/100\n",
      "269/269 [==============================] - 1s 4ms/step - loss: 438.2444 - val_loss: 539.3535\n",
      "Epoch 14/100\n",
      "269/269 [==============================] - 1s 4ms/step - loss: 418.2220 - val_loss: 513.4106\n",
      "Epoch 15/100\n",
      "269/269 [==============================] - 1s 4ms/step - loss: 404.2004 - val_loss: 495.1926\n",
      "Epoch 16/100\n",
      "269/269 [==============================] - 1s 4ms/step - loss: 388.4610 - val_loss: 478.4141\n",
      "Epoch 17/100\n",
      "269/269 [==============================] - 1s 4ms/step - loss: 374.6395 - val_loss: 462.9366\n",
      "Epoch 18/100\n",
      "269/269 [==============================] - 1s 4ms/step - loss: 362.2216 - val_loss: 447.8261\n",
      "Epoch 19/100\n",
      "269/269 [==============================] - 1s 4ms/step - loss: 350.3488 - val_loss: 435.4288\n",
      "Epoch 20/100\n",
      "269/269 [==============================] - 1s 4ms/step - loss: 337.2570 - val_loss: 421.9523\n",
      "Epoch 21/100\n",
      "269/269 [==============================] - 1s 4ms/step - loss: 323.3342 - val_loss: 408.7245\n",
      "Epoch 22/100\n",
      "269/269 [==============================] - 1s 4ms/step - loss: 311.7680 - val_loss: 397.9375\n",
      "Epoch 23/100\n",
      "269/269 [==============================] - 1s 4ms/step - loss: 302.4240 - val_loss: 386.3386\n",
      "Epoch 24/100\n",
      "269/269 [==============================] - 1s 4ms/step - loss: 292.1804 - val_loss: 374.7141\n",
      "Epoch 25/100\n",
      "269/269 [==============================] - 1s 4ms/step - loss: 279.9710 - val_loss: 364.9398\n",
      "Epoch 26/100\n",
      "269/269 [==============================] - 1s 4ms/step - loss: 268.8368 - val_loss: 354.3233\n",
      "Epoch 27/100\n",
      "269/269 [==============================] - 1s 4ms/step - loss: 261.4671 - val_loss: 345.5256\n",
      "Epoch 28/100\n",
      "269/269 [==============================] - 1s 4ms/step - loss: 252.8394 - val_loss: 335.1320\n",
      "Epoch 29/100\n",
      "269/269 [==============================] - 1s 4ms/step - loss: 243.8342 - val_loss: 325.9280\n",
      "Epoch 30/100\n",
      "269/269 [==============================] - 1s 5ms/step - loss: 235.2446 - val_loss: 316.9349\n",
      "Epoch 31/100\n",
      "269/269 [==============================] - 1s 4ms/step - loss: 225.6785 - val_loss: 308.4666\n",
      "Epoch 32/100\n",
      "269/269 [==============================] - 1s 4ms/step - loss: 219.4290 - val_loss: 300.5812\n",
      "Epoch 33/100\n",
      "269/269 [==============================] - 1s 4ms/step - loss: 211.3887 - val_loss: 293.7694\n",
      "Epoch 34/100\n",
      "269/269 [==============================] - 1s 4ms/step - loss: 204.0572 - val_loss: 286.5085\n",
      "Epoch 35/100\n",
      "269/269 [==============================] - 1s 4ms/step - loss: 196.2925 - val_loss: 279.1968\n",
      "Epoch 36/100\n",
      "269/269 [==============================] - 1s 4ms/step - loss: 188.9058 - val_loss: 272.1177\n",
      "Epoch 37/100\n",
      "269/269 [==============================] - 1s 4ms/step - loss: 182.7057 - val_loss: 265.1613\n",
      "Epoch 38/100\n",
      "269/269 [==============================] - 1s 4ms/step - loss: 180.3811 - val_loss: 259.0405\n",
      "Epoch 39/100\n",
      "269/269 [==============================] - 1s 4ms/step - loss: 170.6601 - val_loss: 253.3499\n",
      "Epoch 40/100\n",
      "269/269 [==============================] - 1s 4ms/step - loss: 168.1783 - val_loss: 248.4122\n",
      "Epoch 41/100\n",
      "269/269 [==============================] - 1s 4ms/step - loss: 162.2669 - val_loss: 244.7342\n",
      "Epoch 42/100\n",
      "269/269 [==============================] - 1s 4ms/step - loss: 158.9103 - val_loss: 239.7326\n",
      "Epoch 43/100\n",
      "269/269 [==============================] - 1s 5ms/step - loss: 156.0450 - val_loss: 235.3994\n",
      "Epoch 44/100\n",
      "269/269 [==============================] - 1s 4ms/step - loss: 149.2623 - val_loss: 229.2953\n",
      "Epoch 45/100\n",
      "269/269 [==============================] - 1s 5ms/step - loss: 144.5130 - val_loss: 225.7283\n",
      "Epoch 46/100\n",
      "269/269 [==============================] - 1s 4ms/step - loss: 142.2403 - val_loss: 222.0806\n",
      "Epoch 47/100\n",
      "269/269 [==============================] - 1s 4ms/step - loss: 138.8086 - val_loss: 218.4203\n",
      "Epoch 48/100\n",
      "269/269 [==============================] - 1s 4ms/step - loss: 136.0687 - val_loss: 216.0535\n",
      "Epoch 49/100\n",
      "269/269 [==============================] - 1s 4ms/step - loss: 131.3017 - val_loss: 212.6952\n",
      "Epoch 50/100\n",
      "269/269 [==============================] - 1s 4ms/step - loss: 131.8556 - val_loss: 209.2492\n",
      "Epoch 51/100\n",
      "269/269 [==============================] - 1s 5ms/step - loss: 126.0954 - val_loss: 206.2981\n",
      "Epoch 52/100\n",
      "269/269 [==============================] - 1s 4ms/step - loss: 123.4544 - val_loss: 205.1288\n",
      "Epoch 53/100\n",
      "269/269 [==============================] - 1s 4ms/step - loss: 120.9845 - val_loss: 203.4959\n",
      "Epoch 54/100\n",
      "269/269 [==============================] - 1s 4ms/step - loss: 120.6868 - val_loss: 201.0758\n",
      "Epoch 55/100\n",
      "269/269 [==============================] - 1s 4ms/step - loss: 116.7510 - val_loss: 198.2457\n",
      "Epoch 56/100\n",
      "269/269 [==============================] - 1s 4ms/step - loss: 117.4044 - val_loss: 196.5307\n",
      "Epoch 57/100\n",
      "269/269 [==============================] - 1s 4ms/step - loss: 115.1062 - val_loss: 196.2548\n",
      "Epoch 58/100\n",
      "269/269 [==============================] - 1s 4ms/step - loss: 112.1909 - val_loss: 192.2330\n",
      "Epoch 59/100\n",
      "269/269 [==============================] - 1s 4ms/step - loss: 111.8356 - val_loss: 190.3869\n",
      "Epoch 60/100\n",
      "269/269 [==============================] - 1s 4ms/step - loss: 109.4115 - val_loss: 189.3443\n",
      "Epoch 61/100\n",
      "269/269 [==============================] - 1s 4ms/step - loss: 108.8928 - val_loss: 188.0489\n",
      "Epoch 62/100\n",
      "269/269 [==============================] - 1s 4ms/step - loss: 105.0655 - val_loss: 186.8334\n",
      "Epoch 63/100\n",
      "269/269 [==============================] - 1s 5ms/step - loss: 102.8177 - val_loss: 184.6464\n",
      "Epoch 64/100\n",
      "269/269 [==============================] - 1s 4ms/step - loss: 103.8379 - val_loss: 182.7139\n",
      "Epoch 65/100\n",
      "269/269 [==============================] - 1s 4ms/step - loss: 102.2826 - val_loss: 182.2391\n",
      "Epoch 66/100\n",
      "269/269 [==============================] - 1s 5ms/step - loss: 102.2550 - val_loss: 181.2289\n",
      "Epoch 67/100\n",
      "269/269 [==============================] - 1s 4ms/step - loss: 97.8636 - val_loss: 180.2396\n",
      "Epoch 68/100\n",
      "269/269 [==============================] - 1s 4ms/step - loss: 97.4445 - val_loss: 178.1968\n",
      "Epoch 69/100\n",
      "269/269 [==============================] - 1s 4ms/step - loss: 96.6046 - val_loss: 175.9742\n",
      "Epoch 70/100\n",
      "269/269 [==============================] - 1s 4ms/step - loss: 94.2530 - val_loss: 175.3103\n",
      "Epoch 71/100\n",
      "269/269 [==============================] - 1s 4ms/step - loss: 93.5758 - val_loss: 174.9478\n",
      "Epoch 72/100\n",
      "269/269 [==============================] - 1s 4ms/step - loss: 93.6140 - val_loss: 173.3804\n",
      "Epoch 73/100\n",
      "269/269 [==============================] - 1s 4ms/step - loss: 93.3433 - val_loss: 172.4234\n",
      "Epoch 74/100\n",
      "269/269 [==============================] - 1s 4ms/step - loss: 89.9274 - val_loss: 170.7331\n",
      "Epoch 75/100\n",
      "269/269 [==============================] - 1s 4ms/step - loss: 89.0086 - val_loss: 170.0627\n",
      "Epoch 76/100\n",
      "269/269 [==============================] - 1s 4ms/step - loss: 88.3338 - val_loss: 168.5173\n",
      "Epoch 77/100\n",
      "269/269 [==============================] - 1s 4ms/step - loss: 87.0404 - val_loss: 167.7069\n",
      "Epoch 78/100\n"
     ]
    },
    {
     "name": "stdout",
     "output_type": "stream",
     "text": [
      "269/269 [==============================] - 1s 4ms/step - loss: 87.2215 - val_loss: 167.2554\n",
      "Epoch 79/100\n",
      "269/269 [==============================] - 1s 4ms/step - loss: 83.8128 - val_loss: 166.6437\n",
      "Epoch 80/100\n",
      "269/269 [==============================] - 1s 4ms/step - loss: 85.7608 - val_loss: 165.7379\n",
      "Epoch 81/100\n",
      "269/269 [==============================] - 1s 4ms/step - loss: 83.8368 - val_loss: 165.2091\n",
      "Epoch 82/100\n",
      "269/269 [==============================] - 1s 4ms/step - loss: 84.8177 - val_loss: 163.5675\n",
      "Epoch 83/100\n",
      "269/269 [==============================] - 1s 4ms/step - loss: 82.4417 - val_loss: 162.8808\n",
      "Epoch 84/100\n",
      "269/269 [==============================] - 1s 4ms/step - loss: 78.7904 - val_loss: 161.7631\n",
      "Epoch 85/100\n",
      "269/269 [==============================] - 1s 4ms/step - loss: 79.9817 - val_loss: 162.1225\n",
      "Epoch 86/100\n",
      "269/269 [==============================] - 1s 4ms/step - loss: 77.4952 - val_loss: 159.6306\n",
      "Epoch 87/100\n",
      "269/269 [==============================] - 1s 4ms/step - loss: 78.5032 - val_loss: 160.3618\n",
      "Epoch 88/100\n",
      "269/269 [==============================] - 1s 4ms/step - loss: 76.6122 - val_loss: 159.2902\n",
      "Epoch 89/100\n",
      "269/269 [==============================] - 1s 4ms/step - loss: 76.6272 - val_loss: 159.9211\n",
      "Epoch 90/100\n",
      "269/269 [==============================] - 1s 4ms/step - loss: 77.7051 - val_loss: 157.2671\n",
      "Epoch 91/100\n",
      "269/269 [==============================] - 1s 4ms/step - loss: 74.8160 - val_loss: 157.8646\n",
      "Epoch 92/100\n",
      "269/269 [==============================] - 1s 4ms/step - loss: 74.3746 - val_loss: 157.2878\n",
      "Epoch 93/100\n",
      "269/269 [==============================] - 1s 4ms/step - loss: 73.7131 - val_loss: 155.4218\n",
      "Epoch 94/100\n",
      "269/269 [==============================] - 1s 4ms/step - loss: 72.1669 - val_loss: 155.1175\n",
      "Epoch 95/100\n",
      "269/269 [==============================] - 1s 5ms/step - loss: 72.5094 - val_loss: 153.9010\n",
      "Epoch 96/100\n",
      "269/269 [==============================] - 1s 5ms/step - loss: 70.4448 - val_loss: 155.7411\n",
      "Epoch 97/100\n",
      "269/269 [==============================] - 1s 5ms/step - loss: 71.2541 - val_loss: 152.6116\n",
      "Epoch 98/100\n",
      "269/269 [==============================] - 1s 4ms/step - loss: 69.9593 - val_loss: 152.4313\n",
      "Epoch 99/100\n",
      "269/269 [==============================] - 1s 4ms/step - loss: 69.8619 - val_loss: 151.0764\n",
      "Epoch 100/100\n",
      "269/269 [==============================] - 1s 4ms/step - loss: 69.5494 - val_loss: 151.0597\n"
     ]
    }
   ],
   "source": [
    "from tensorflow.keras.models import Sequential\n",
    "from tensorflow.keras.layers import Input, Dense, Activation, Dropout\n",
    "from tensorflow.keras.optimizers import Adam\n",
    "\n",
    "# why do we need optimizers?\n",
    "\n",
    "X_train = np.array(X_train)\n",
    "X_test = np.array(X_test)\n",
    "Y_train = np.array(Y_train)\n",
    "Y_test = np.array(Y_test)\n",
    "\n",
    "model = Sequential()\n",
    "\n",
    "model.add(Dense(X_train.shape[1], activation='relu')) # The input layer should have only the number of independant columns?\n",
    "model.add(Dense(32, activation='relu'))\n",
    "# model.add(Dropout(0.2))\n",
    "\n",
    "model.add(Dense(64, activation='relu'))\n",
    "# model.add(Dropout(0.2))\n",
    "\n",
    "model.add(Dense(128, activation='relu'))\n",
    "# model.add(Dropout(0.2))\n",
    "\n",
    "model.add(Dense(512, activation='relu'))\n",
    "model.add(Dropout(0.1))\n",
    "model.add(Dense(1)) # For a regression the output layer alway has only one layer.\n",
    "\n",
    "model.compile(optimizer=Adam(0.00001), loss='mse')  # what is 0.00001 here?\n",
    "\n",
    "r = model.fit(X_train, Y_train,\n",
    "              validation_data=(X_test,Y_test), # so here we are saying that use X_train, y_train to find the model and use X_test and y_test to validate the model?\n",
    "              batch_size=1, #what is batch_size?\n",
    "              epochs=100) # epochs are no. of learning iterations. in each epoch one forward and one back propagation hapens? \n",
    "\n",
    "# what elase hapens in the epoch at Neural network level?"
   ]
  },
  {
   "cell_type": "code",
   "execution_count": 43,
   "id": "f9e08b38",
   "metadata": {},
   "outputs": [
    {
     "data": {
      "text/plain": [
       "<matplotlib.legend.Legend at 0x1987a5e3970>"
      ]
     },
     "execution_count": 43,
     "metadata": {},
     "output_type": "execute_result"
    },
    {
     "data": {
      "image/png": "[encoded data removed]",
      "text/plain": [
       "<Figure size 1000x600 with 1 Axes>"
      ]
     },
     "metadata": {},
     "output_type": "display_data"
    }
   ],
   "source": [
    "plt.figure(figsize=(10, 6))\n",
    "\n",
    "plt.plot(r.history['loss'], label='loss')\n",
    "plt.plot(r.history['val_loss'], label='val_loss')\n",
    "plt.legend()"
   ]
  },
  {
   "cell_type": "code",
   "execution_count": 44,
   "id": "3d4e31e9",
   "metadata": {},
   "outputs": [
    {
     "name": "stdout",
     "output_type": "stream",
     "text": [
      "5/5 [==============================] - 0s 1ms/step\n",
      "9/9 [==============================] - 0s 2ms/step\n",
      "Test set evaluation:\n",
      "_____________________________________\n",
      "MAE: 7.889637964182888\n",
      "MSE: 151.05973440472093\n",
      "RMSE: 12.290636045572294\n",
      "R2 Square 0.35676466520986805\n",
      "__________________________________\n",
      "Train set evaluation:\n",
      "_____________________________________\n",
      "MAE: 6.476151705319997\n",
      "MSE: 67.26380430533143\n",
      "RMSE: 8.201451353591718\n",
      "R2 Square 0.5597587404804438\n",
      "__________________________________\n"
     ]
    }
   ],
   "source": [
    "test_pred = model.predict(X_test)\n",
    "train_pred = model.predict(X_train)\n",
    "\n",
    "print('Test set evaluation:\\n_____________________________________')\n",
    "print_evaluate(Y_test, test_pred)\n",
    "\n",
    "print('Train set evaluation:\\n_____________________________________')\n",
    "print_evaluate(Y_train, train_pred)"
   ]
  },
  {
   "cell_type": "code",
   "execution_count": 45,
   "id": "c609e124",
   "metadata": {},
   "outputs": [
    {
     "name": "stderr",
     "output_type": "stream",
     "text": [
      "C:\\Users\\Anant Paliwal\\AppData\\Local\\Temp\\ipykernel_8916\\1378887125.py:3: FutureWarning: The frame.append method is deprecated and will be removed from pandas in a future version. Use pandas.concat instead.\n",
      "  results_df = results_df.append(results_df_2, ignore_index=True)\n"
     ]
    },
    {
     "data": {
      "text/html": [
       "<div>\n",
       "<style scoped>\n",
       "    .dataframe tbody tr th:only-of-type {\n",
       "        vertical-align: middle;\n",
       "    }\n",
       "\n",
       "    .dataframe tbody tr th {\n",
       "        vertical-align: top;\n",
       "    }\n",
       "\n",
       "    .dataframe thead th {\n",
       "        text-align: right;\n",
       "    }\n",
       "</style>\n",
       "<table border=\"1\" class=\"dataframe\">\n",
       "  <thead>\n",
       "    <tr style=\"text-align: right;\">\n",
       "      <th></th>\n",
       "      <th>Model</th>\n",
       "      <th>MAE</th>\n",
       "      <th>MSE</th>\n",
       "      <th>RMSE</th>\n",
       "      <th>R2 Square</th>\n",
       "      <th>Cross Validation</th>\n",
       "    </tr>\n",
       "  </thead>\n",
       "  <tbody>\n",
       "    <tr>\n",
       "      <th>0</th>\n",
       "      <td>Linear Regression</td>\n",
       "      <td>7.365469</td>\n",
       "      <td>135.727100</td>\n",
       "      <td>11.650197</td>\n",
       "      <td>0.422053</td>\n",
       "      <td>0.577030</td>\n",
       "    </tr>\n",
       "    <tr>\n",
       "      <th>1</th>\n",
       "      <td>Robust Regression</td>\n",
       "      <td>8.683061</td>\n",
       "      <td>189.012706</td>\n",
       "      <td>13.748189</td>\n",
       "      <td>0.195155</td>\n",
       "      <td>0.325149</td>\n",
       "    </tr>\n",
       "    <tr>\n",
       "      <th>2</th>\n",
       "      <td>Ridge Regression</td>\n",
       "      <td>7.689262</td>\n",
       "      <td>141.043099</td>\n",
       "      <td>11.876157</td>\n",
       "      <td>0.399417</td>\n",
       "      <td>0.556839</td>\n",
       "    </tr>\n",
       "    <tr>\n",
       "      <th>3</th>\n",
       "      <td>Lasso Regression</td>\n",
       "      <td>8.200696</td>\n",
       "      <td>153.562863</td>\n",
       "      <td>12.392048</td>\n",
       "      <td>0.346106</td>\n",
       "      <td>0.543471</td>\n",
       "    </tr>\n",
       "    <tr>\n",
       "      <th>4</th>\n",
       "      <td>Elastic Net Regression</td>\n",
       "      <td>7.386936</td>\n",
       "      <td>136.263419</td>\n",
       "      <td>11.673192</td>\n",
       "      <td>0.419770</td>\n",
       "      <td>0.543508</td>\n",
       "    </tr>\n",
       "    <tr>\n",
       "      <th>5</th>\n",
       "      <td>Polynomail Regression</td>\n",
       "      <td>6.741959</td>\n",
       "      <td>113.544184</td>\n",
       "      <td>10.655711</td>\n",
       "      <td>0.516512</td>\n",
       "      <td>0.000000</td>\n",
       "    </tr>\n",
       "    <tr>\n",
       "      <th>6</th>\n",
       "      <td>Stochastic Gradient Descent</td>\n",
       "      <td>7.456191</td>\n",
       "      <td>141.574080</td>\n",
       "      <td>11.898491</td>\n",
       "      <td>0.397156</td>\n",
       "      <td>0.000000</td>\n",
       "    </tr>\n",
       "    <tr>\n",
       "      <th>7</th>\n",
       "      <td>Artficial Neural Network</td>\n",
       "      <td>7.889638</td>\n",
       "      <td>151.059734</td>\n",
       "      <td>12.290636</td>\n",
       "      <td>0.356765</td>\n",
       "      <td>0.000000</td>\n",
       "    </tr>\n",
       "  </tbody>\n",
       "</table>\n",
       "</div>"
      ],
      "text/plain": [
       "                         Model       MAE         MSE       RMSE  R2 Square  \\\n",
       "0            Linear Regression  7.365469  135.727100  11.650197   0.422053   \n",
       "1            Robust Regression  8.683061  189.012706  13.748189   0.195155   \n",
       "2             Ridge Regression  7.689262  141.043099  11.876157   0.399417   \n",
       "3             Lasso Regression  8.200696  153.562863  12.392048   0.346106   \n",
       "4       Elastic Net Regression  7.386936  136.263419  11.673192   0.419770   \n",
       "5        Polynomail Regression  6.741959  113.544184  10.655711   0.516512   \n",
       "6  Stochastic Gradient Descent  7.456191  141.574080  11.898491   0.397156   \n",
       "7     Artficial Neural Network  7.889638  151.059734  12.290636   0.356765   \n",
       "\n",
       "   Cross Validation  \n",
       "0          0.577030  \n",
       "1          0.325149  \n",
       "2          0.556839  \n",
       "3          0.543471  \n",
       "4          0.543508  \n",
       "5          0.000000  \n",
       "6          0.000000  \n",
       "7          0.000000  "
      ]
     },
     "execution_count": 45,
     "metadata": {},
     "output_type": "execute_result"
    }
   ],
   "source": [
    "results_df_2 = pd.DataFrame(data=[[\"Artficial Neural Network\", *evaluate(Y_test, test_pred), 0]], \n",
    "                            columns=['Model', 'MAE', 'MSE', 'RMSE', 'R2 Square', 'Cross Validation'])\n",
    "results_df = results_df.append(results_df_2, ignore_index=True)\n",
    "results_df"
   ]
  },
  {
   "cell_type": "markdown",
   "id": "3bfe6061",
   "metadata": {},
   "source": [
    "# Random Forest Regressor"
   ]
  },
  {
   "cell_type": "code",
   "execution_count": 46,
   "id": "8cf0b6d4",
   "metadata": {},
   "outputs": [
    {
     "name": "stderr",
     "output_type": "stream",
     "text": [
      "C:\\Users\\Anant Paliwal\\AppData\\Local\\Temp\\ipykernel_8916\\3758866532.py:4: DataConversionWarning: A column-vector y was passed when a 1d array was expected. Please change the shape of y to (n_samples,), for example using ravel().\n",
      "  rf_reg.fit(X_train, Y_train)\n"
     ]
    },
    {
     "name": "stdout",
     "output_type": "stream",
     "text": [
      "Test set evaluation:\n",
      "_____________________________________\n",
      "MAE: 5.858842068965507\n",
      "MSE: 97.55652007275859\n",
      "RMSE: 9.877070419550455\n",
      "R2 Square 0.584589493042297\n",
      "__________________________________\n",
      "Train set evaluation:\n",
      "_____________________________________\n",
      "MAE: 1.5216483271375523\n",
      "MSE: 4.361052335762161\n",
      "RMSE: 2.0883132752923257\n",
      "R2 Square 0.9714569344842355\n",
      "__________________________________\n"
     ]
    }
   ],
   "source": [
    "from sklearn.ensemble import RandomForestRegressor\n",
    "\n",
    "rf_reg = RandomForestRegressor(n_estimators=1000)\n",
    "rf_reg.fit(X_train, Y_train)\n",
    "\n",
    "test_pred = rf_reg.predict(X_test)\n",
    "train_pred = rf_reg.predict(X_train)\n",
    "\n",
    "print('Test set evaluation:\\n_____________________________________')\n",
    "print_evaluate(Y_test, test_pred)\n",
    "\n",
    "print('Train set evaluation:\\n_____________________________________')\n",
    "print_evaluate(Y_train, train_pred)"
   ]
  },
  {
   "cell_type": "code",
   "execution_count": 47,
   "id": "876a99b9",
   "metadata": {},
   "outputs": [
    {
     "name": "stderr",
     "output_type": "stream",
     "text": [
      "C:\\Users\\Anant Paliwal\\AppData\\Local\\Temp\\ipykernel_8916\\2161668939.py:3: FutureWarning: The frame.append method is deprecated and will be removed from pandas in a future version. Use pandas.concat instead.\n",
      "  results_df = results_df.append(results_df_2, ignore_index=True)\n"
     ]
    },
    {
     "data": {
      "text/html": [
       "<div>\n",
       "<style scoped>\n",
       "    .dataframe tbody tr th:only-of-type {\n",
       "        vertical-align: middle;\n",
       "    }\n",
       "\n",
       "    .dataframe tbody tr th {\n",
       "        vertical-align: top;\n",
       "    }\n",
       "\n",
       "    .dataframe thead th {\n",
       "        text-align: right;\n",
       "    }\n",
       "</style>\n",
       "<table border=\"1\" class=\"dataframe\">\n",
       "  <thead>\n",
       "    <tr style=\"text-align: right;\">\n",
       "      <th></th>\n",
       "      <th>Model</th>\n",
       "      <th>MAE</th>\n",
       "      <th>MSE</th>\n",
       "      <th>RMSE</th>\n",
       "      <th>R2 Square</th>\n",
       "      <th>Cross Validation</th>\n",
       "    </tr>\n",
       "  </thead>\n",
       "  <tbody>\n",
       "    <tr>\n",
       "      <th>0</th>\n",
       "      <td>Linear Regression</td>\n",
       "      <td>7.365469</td>\n",
       "      <td>135.727100</td>\n",
       "      <td>11.650197</td>\n",
       "      <td>0.422053</td>\n",
       "      <td>0.577030</td>\n",
       "    </tr>\n",
       "    <tr>\n",
       "      <th>1</th>\n",
       "      <td>Robust Regression</td>\n",
       "      <td>8.683061</td>\n",
       "      <td>189.012706</td>\n",
       "      <td>13.748189</td>\n",
       "      <td>0.195155</td>\n",
       "      <td>0.325149</td>\n",
       "    </tr>\n",
       "    <tr>\n",
       "      <th>2</th>\n",
       "      <td>Ridge Regression</td>\n",
       "      <td>7.689262</td>\n",
       "      <td>141.043099</td>\n",
       "      <td>11.876157</td>\n",
       "      <td>0.399417</td>\n",
       "      <td>0.556839</td>\n",
       "    </tr>\n",
       "    <tr>\n",
       "      <th>3</th>\n",
       "      <td>Lasso Regression</td>\n",
       "      <td>8.200696</td>\n",
       "      <td>153.562863</td>\n",
       "      <td>12.392048</td>\n",
       "      <td>0.346106</td>\n",
       "      <td>0.543471</td>\n",
       "    </tr>\n",
       "    <tr>\n",
       "      <th>4</th>\n",
       "      <td>Elastic Net Regression</td>\n",
       "      <td>7.386936</td>\n",
       "      <td>136.263419</td>\n",
       "      <td>11.673192</td>\n",
       "      <td>0.419770</td>\n",
       "      <td>0.543508</td>\n",
       "    </tr>\n",
       "    <tr>\n",
       "      <th>5</th>\n",
       "      <td>Polynomail Regression</td>\n",
       "      <td>6.741959</td>\n",
       "      <td>113.544184</td>\n",
       "      <td>10.655711</td>\n",
       "      <td>0.516512</td>\n",
       "      <td>0.000000</td>\n",
       "    </tr>\n",
       "    <tr>\n",
       "      <th>6</th>\n",
       "      <td>Stochastic Gradient Descent</td>\n",
       "      <td>7.456191</td>\n",
       "      <td>141.574080</td>\n",
       "      <td>11.898491</td>\n",
       "      <td>0.397156</td>\n",
       "      <td>0.000000</td>\n",
       "    </tr>\n",
       "    <tr>\n",
       "      <th>7</th>\n",
       "      <td>Artficial Neural Network</td>\n",
       "      <td>7.889638</td>\n",
       "      <td>151.059734</td>\n",
       "      <td>12.290636</td>\n",
       "      <td>0.356765</td>\n",
       "      <td>0.000000</td>\n",
       "    </tr>\n",
       "    <tr>\n",
       "      <th>8</th>\n",
       "      <td>Random Forest Regressor</td>\n",
       "      <td>5.858842</td>\n",
       "      <td>97.556520</td>\n",
       "      <td>9.877070</td>\n",
       "      <td>0.584589</td>\n",
       "      <td>0.000000</td>\n",
       "    </tr>\n",
       "  </tbody>\n",
       "</table>\n",
       "</div>"
      ],
      "text/plain": [
       "                         Model       MAE         MSE       RMSE  R2 Square  \\\n",
       "0            Linear Regression  7.365469  135.727100  11.650197   0.422053   \n",
       "1            Robust Regression  8.683061  189.012706  13.748189   0.195155   \n",
       "2             Ridge Regression  7.689262  141.043099  11.876157   0.399417   \n",
       "3             Lasso Regression  8.200696  153.562863  12.392048   0.346106   \n",
       "4       Elastic Net Regression  7.386936  136.263419  11.673192   0.419770   \n",
       "5        Polynomail Regression  6.741959  113.544184  10.655711   0.516512   \n",
       "6  Stochastic Gradient Descent  7.456191  141.574080  11.898491   0.397156   \n",
       "7     Artficial Neural Network  7.889638  151.059734  12.290636   0.356765   \n",
       "8      Random Forest Regressor  5.858842   97.556520   9.877070   0.584589   \n",
       "\n",
       "   Cross Validation  \n",
       "0          0.577030  \n",
       "1          0.325149  \n",
       "2          0.556839  \n",
       "3          0.543471  \n",
       "4          0.543508  \n",
       "5          0.000000  \n",
       "6          0.000000  \n",
       "7          0.000000  \n",
       "8          0.000000  "
      ]
     },
     "execution_count": 47,
     "metadata": {},
     "output_type": "execute_result"
    }
   ],
   "source": [
    "results_df_2 = pd.DataFrame(data=[[\"Random Forest Regressor\", *evaluate(Y_test, test_pred), 0]], \n",
    "                            columns=['Model', 'MAE', 'MSE', 'RMSE', 'R2 Square', 'Cross Validation'])\n",
    "results_df = results_df.append(results_df_2, ignore_index=True)\n",
    "results_df"
   ]
  },
  {
   "cell_type": "markdown",
   "id": "cffad667",
   "metadata": {},
   "source": [
    "# Support Vector Machine"
   ]
  },
  {
   "cell_type": "code",
   "execution_count": 48,
   "id": "ed0c7416",
   "metadata": {},
   "outputs": [
    {
     "name": "stderr",
     "output_type": "stream",
     "text": [
      "C:\\Users\\Anant Paliwal\\anaconda3\\lib\\site-packages\\sklearn\\utils\\validation.py:993: DataConversionWarning: A column-vector y was passed when a 1d array was expected. Please change the shape of y to (n_samples, ), for example using ravel().\n",
      "  y = column_or_1d(y, warn=True)\n"
     ]
    },
    {
     "name": "stdout",
     "output_type": "stream",
     "text": [
      "Test set evaluation:\n",
      "_____________________________________\n",
      "MAE: 13.550887056274572\n",
      "MSE: 354.2664685352539\n",
      "RMSE: 18.821967711566554\n",
      "R2 Square -0.5085205292540895\n",
      "__________________________________\n",
      "Train set evaluation:\n",
      "_____________________________________\n",
      "MAE: 0.004498837922453362\n",
      "MSE: 4.347418194487758e-05\n",
      "RMSE: 0.006593495426924749\n",
      "R2 Square 0.9999997154616987\n",
      "__________________________________\n"
     ]
    }
   ],
   "source": [
    "from sklearn.svm import SVR\n",
    "\n",
    "svm_reg = SVR(kernel='rbf', C=1000000, epsilon=0.001)\n",
    "svm_reg.fit(X_train, Y_train)\n",
    "\n",
    "test_pred = svm_reg.predict(X_test)\n",
    "train_pred = svm_reg.predict(X_train)\n",
    "\n",
    "print('Test set evaluation:\\n_____________________________________')\n",
    "print_evaluate(Y_test, test_pred)\n",
    "\n",
    "print('Train set evaluation:\\n_____________________________________')\n",
    "print_evaluate(Y_train, train_pred)"
   ]
  },
  {
   "cell_type": "code",
   "execution_count": 49,
   "id": "b6bb9ed7",
   "metadata": {},
   "outputs": [
    {
     "name": "stderr",
     "output_type": "stream",
     "text": [
      "C:\\Users\\Anant Paliwal\\AppData\\Local\\Temp\\ipykernel_8916\\3456270861.py:3: FutureWarning: The frame.append method is deprecated and will be removed from pandas in a future version. Use pandas.concat instead.\n",
      "  results_df = results_df.append(results_df_2, ignore_index=True)\n"
     ]
    },
    {
     "data": {
      "text/html": [
       "<div>\n",
       "<style scoped>\n",
       "    .dataframe tbody tr th:only-of-type {\n",
       "        vertical-align: middle;\n",
       "    }\n",
       "\n",
       "    .dataframe tbody tr th {\n",
       "        vertical-align: top;\n",
       "    }\n",
       "\n",
       "    .dataframe thead th {\n",
       "        text-align: right;\n",
       "    }\n",
       "</style>\n",
       "<table border=\"1\" class=\"dataframe\">\n",
       "  <thead>\n",
       "    <tr style=\"text-align: right;\">\n",
       "      <th></th>\n",
       "      <th>Model</th>\n",
       "      <th>MAE</th>\n",
       "      <th>MSE</th>\n",
       "      <th>RMSE</th>\n",
       "      <th>R2 Square</th>\n",
       "      <th>Cross Validation</th>\n",
       "    </tr>\n",
       "  </thead>\n",
       "  <tbody>\n",
       "    <tr>\n",
       "      <th>0</th>\n",
       "      <td>Linear Regression</td>\n",
       "      <td>7.365469</td>\n",
       "      <td>135.727100</td>\n",
       "      <td>11.650197</td>\n",
       "      <td>0.422053</td>\n",
       "      <td>0.577030</td>\n",
       "    </tr>\n",
       "    <tr>\n",
       "      <th>1</th>\n",
       "      <td>Robust Regression</td>\n",
       "      <td>8.683061</td>\n",
       "      <td>189.012706</td>\n",
       "      <td>13.748189</td>\n",
       "      <td>0.195155</td>\n",
       "      <td>0.325149</td>\n",
       "    </tr>\n",
       "    <tr>\n",
       "      <th>2</th>\n",
       "      <td>Ridge Regression</td>\n",
       "      <td>7.689262</td>\n",
       "      <td>141.043099</td>\n",
       "      <td>11.876157</td>\n",
       "      <td>0.399417</td>\n",
       "      <td>0.556839</td>\n",
       "    </tr>\n",
       "    <tr>\n",
       "      <th>3</th>\n",
       "      <td>Lasso Regression</td>\n",
       "      <td>8.200696</td>\n",
       "      <td>153.562863</td>\n",
       "      <td>12.392048</td>\n",
       "      <td>0.346106</td>\n",
       "      <td>0.543471</td>\n",
       "    </tr>\n",
       "    <tr>\n",
       "      <th>4</th>\n",
       "      <td>Elastic Net Regression</td>\n",
       "      <td>7.386936</td>\n",
       "      <td>136.263419</td>\n",
       "      <td>11.673192</td>\n",
       "      <td>0.419770</td>\n",
       "      <td>0.543508</td>\n",
       "    </tr>\n",
       "    <tr>\n",
       "      <th>5</th>\n",
       "      <td>Polynomail Regression</td>\n",
       "      <td>6.741959</td>\n",
       "      <td>113.544184</td>\n",
       "      <td>10.655711</td>\n",
       "      <td>0.516512</td>\n",
       "      <td>0.000000</td>\n",
       "    </tr>\n",
       "    <tr>\n",
       "      <th>6</th>\n",
       "      <td>Stochastic Gradient Descent</td>\n",
       "      <td>7.456191</td>\n",
       "      <td>141.574080</td>\n",
       "      <td>11.898491</td>\n",
       "      <td>0.397156</td>\n",
       "      <td>0.000000</td>\n",
       "    </tr>\n",
       "    <tr>\n",
       "      <th>7</th>\n",
       "      <td>Artficial Neural Network</td>\n",
       "      <td>7.889638</td>\n",
       "      <td>151.059734</td>\n",
       "      <td>12.290636</td>\n",
       "      <td>0.356765</td>\n",
       "      <td>0.000000</td>\n",
       "    </tr>\n",
       "    <tr>\n",
       "      <th>8</th>\n",
       "      <td>Random Forest Regressor</td>\n",
       "      <td>5.858842</td>\n",
       "      <td>97.556520</td>\n",
       "      <td>9.877070</td>\n",
       "      <td>0.584589</td>\n",
       "      <td>0.000000</td>\n",
       "    </tr>\n",
       "    <tr>\n",
       "      <th>9</th>\n",
       "      <td>SVM Regressor</td>\n",
       "      <td>13.550887</td>\n",
       "      <td>354.266469</td>\n",
       "      <td>18.821968</td>\n",
       "      <td>-0.508521</td>\n",
       "      <td>0.000000</td>\n",
       "    </tr>\n",
       "  </tbody>\n",
       "</table>\n",
       "</div>"
      ],
      "text/plain": [
       "                         Model        MAE         MSE       RMSE  R2 Square  \\\n",
       "0            Linear Regression   7.365469  135.727100  11.650197   0.422053   \n",
       "1            Robust Regression   8.683061  189.012706  13.748189   0.195155   \n",
       "2             Ridge Regression   7.689262  141.043099  11.876157   0.399417   \n",
       "3             Lasso Regression   8.200696  153.562863  12.392048   0.346106   \n",
       "4       Elastic Net Regression   7.386936  136.263419  11.673192   0.419770   \n",
       "5        Polynomail Regression   6.741959  113.544184  10.655711   0.516512   \n",
       "6  Stochastic Gradient Descent   7.456191  141.574080  11.898491   0.397156   \n",
       "7     Artficial Neural Network   7.889638  151.059734  12.290636   0.356765   \n",
       "8      Random Forest Regressor   5.858842   97.556520   9.877070   0.584589   \n",
       "9                SVM Regressor  13.550887  354.266469  18.821968  -0.508521   \n",
       "\n",
       "   Cross Validation  \n",
       "0          0.577030  \n",
       "1          0.325149  \n",
       "2          0.556839  \n",
       "3          0.543471  \n",
       "4          0.543508  \n",
       "5          0.000000  \n",
       "6          0.000000  \n",
       "7          0.000000  \n",
       "8          0.000000  \n",
       "9          0.000000  "
      ]
     },
     "execution_count": 49,
     "metadata": {},
     "output_type": "execute_result"
    }
   ],
   "source": [
    "results_df_2 = pd.DataFrame(data=[[\"SVM Regressor\", *evaluate(Y_test, test_pred), 0]], \n",
    "                            columns=['Model', 'MAE', 'MSE', 'RMSE', 'R2 Square', 'Cross Validation'])\n",
    "results_df = results_df.append(results_df_2, ignore_index=True)\n",
    "results_df"
   ]
  },
  {
   "cell_type": "markdown",
   "id": "ba1f256d",
   "metadata": {},
   "source": [
    "# Models Comparison"
   ]
  },
  {
   "cell_type": "code",
   "execution_count": 50,
   "id": "7f2da2d6",
   "metadata": {},
   "outputs": [
    {
     "data": {
      "text/plain": [
       "<AxesSubplot:ylabel='Model'>"
      ]
     },
     "execution_count": 50,
     "metadata": {},
     "output_type": "execute_result"
    },
    {
     "data": {
      "image/png": "[encoded data removed]",
      "text/plain": [
       "<Figure size 1200x800 with 1 Axes>"
      ]
     },
     "metadata": {},
     "output_type": "display_data"
    }
   ],
   "source": [
    "results_df.set_index('Model', inplace=True)\n",
    "results_df['R2 Square'].plot(kind='barh', figsize=(12, 8))"
   ]
  },
  {
   "cell_type": "code",
   "execution_count": null,
   "id": "ffa40f3f",
   "metadata": {},
   "outputs": [],
   "source": []
  }
 ],
 "metadata": {
  "kernelspec": {
   "display_name": "Python 3 (ipykernel)",
   "language": "python",
   "name": "python3"
  },
  "language_info": {
   "codemirror_mode": {
    "name": "ipython",
    "version": 3
   },
   "file_extension": ".py",
   "mimetype": "text/x-python",
   "name": "python",
   "nbconvert_exporter": "python",
   "pygments_lexer": "ipython3",
   "version": "3.9.13"
  }
 },
 "nbformat": 4,
 "nbformat_minor": 5
}
